{
 "cells": [
  {
   "cell_type": "code",
   "execution_count": 1,
   "metadata": {},
   "outputs": [],
   "source": [
    "import pandas as pd "
   ]
  },
  {
   "cell_type": "code",
   "execution_count": 15,
   "metadata": {},
   "outputs": [],
   "source": [
    "ml_2015 = pd.read_stata('2015_ML.dta')\n",
    "ml_2016 = pd.read_stata('2016_ML.dta')"
   ]
  },
  {
   "cell_type": "code",
   "execution_count": 49,
   "metadata": {},
   "outputs": [],
   "source": [
    "ml_2015 = ml_2015[['MASTERYR', 'ORI', 'REGION', 'STATECOD', 'CITY', 'BIASMO1', 'POP1', 'LOCCOD1', 'JUDDIST',\n",
    "    'QUARTER']]\n",
    "ml_2016 = ml_2016[['MASTERYR', 'ORI', 'REGION', 'STATECOD', 'CITY', 'BIASMO1', 'POP1', 'LOCCOD1', 'JUDDIST',\n",
    "    'QUARTER']]"
   ]
  },
  {
   "cell_type": "code",
   "execution_count": 21,
   "metadata": {},
   "outputs": [],
   "source": [
    "#renaming anti-disability group 2015\n",
    "ml_2015['BIASMO1'] = ml_2015['BIASMO1'].replace(dict.fromkeys(['Anti-Physical Disability','Anti-Mental Disability'], \n",
    "                                                              'Anti-Disability'))\n",
    "\n",
    "#renaming anti-religion group\n",
    "ml_2015['BIASMO1'] = ml_2015['BIASMO1'].replace(dict.fromkeys(['Anti-Catholic','Anti-Islamic', 'Anti-Jewish', \n",
    "                                                              \"Anti-Jehovah's Witness\", 'Anti-Other Christian', 'Anti-Hindu',\n",
    "                                                              'Anti-Mormon','Anti-Buddhist', 'Anti-Other Religion', \n",
    "                                                              'Anti-Multi-Religious', 'Anti-Protestant', 'Anti-Sikh',\n",
    "                                                               'Anti-Atheism/Agnosticism'], \n",
    "                                                              'Anti-Religion'))\n",
    "\n",
    "#renaming anti-race group\n",
    "ml_2015['BIASMO1'] = ml_2015['BIASMO1'].replace(dict.fromkeys(['Anti-White','Anti-Not Hispanic or Latino', 'Anti-Asian', \n",
    "                                                              'Anti-Black or African American', 'Anti-Multi-Racial', \n",
    "                                                              'Anti-American Indian or Alaska Native', 'Anti-Hispanic or Latino',\n",
    "                                                               'Anti-Native Hawaiian or Other Pacific Islander', \n",
    "                                                              'Anti-Eastern Orthodox (Greek, Russian, etc.)', 'Anti-Arab'], \n",
    "                                                              'Anti-Race'))\n",
    "\n",
    "#renaming anti-gender group\n",
    "ml_2015['BIASMO1'] = ml_2015['BIASMO1'].replace(dict.fromkeys(['Anti-Female','Anti-Male', 'Anti-Gender Non-Conforming'], \n",
    "                                                              'Anti-Gender'))\n",
    "\n",
    "#renaming anti-sexual orientation group\n",
    "ml_2015['BIASMO1'] = ml_2015['BIASMO1'].replace(dict.fromkeys(['Anti-Lesbian, Gay, Bisexual, or Transgender, Mixed Group (LGBT)',\n",
    "                                                              'Anti-Female Homosexual', 'Anti-Heterosexual', 'Anti-Transgender',\n",
    "                                                               'Anti-Bisexual', 'Anti-Male Homosexual'], \n",
    "                                                              'Anti-Sexual Orientation'))"
   ]
  },
  {
   "cell_type": "code",
   "execution_count": 51,
   "metadata": {},
   "outputs": [],
   "source": [
    "#renaming anti-disability group 2016\n",
    "ml_2016['BIASMO1'] = ml_2016['BIASMO1'].replace(dict.fromkeys(['Anti-Physical Disability','Anti-Mental Disability'], \n",
    "                                                              'Anti-Disability'))\n",
    "\n",
    "#renaming anti-religion group\n",
    "ml_2016['BIASMO1'] = ml_2016['BIASMO1'].replace(dict.fromkeys(['Anti-Catholic','Anti-Islamic', 'Anti-Jewish', \n",
    "                                                              \"Anti-Jehovah's Witness\", 'Anti-Other Christian', 'Anti-Hindu',\n",
    "                                                              'Anti-Mormon','Anti-Buddhist', 'Anti-Other Religion', \n",
    "                                                              'Anti-Multi-Religious', 'Anti-Protestant', 'Anti-Sikh',\n",
    "                                                               'Anti-Atheism/Agnosticism'], \n",
    "                                                              'Anti-Religion'))\n",
    "\n",
    "#renaming anti-race group\n",
    "ml_2016['BIASMO1'] = ml_2016['BIASMO1'].replace(dict.fromkeys(['Anti-White','Anti-Not Hispanic or Latino', 'Anti-Asian', \n",
    "                                                              'Anti-Black or African American', 'Anti-Multi-Racial', \n",
    "                                                              'Anti-American Indian or Alaska Native', 'Anti-Hispanic or Latino',\n",
    "                                                               'Anti-Native Hawaiian or Other Pacific Islander', \n",
    "                                                              'Anti-Eastern Orthodox (Greek, Russian, etc.)', 'Anti-Arab'], \n",
    "                                                              'Anti-Race'))\n",
    "\n",
    "#renaming anti-gender group\n",
    "ml_2016['BIASMO1'] = ml_2016['BIASMO1'].replace(dict.fromkeys(['Anti-Female','Anti-Male', 'Anti-Gender Non-Conforming'], \n",
    "                                                              'Anti-Gender'))\n",
    "\n",
    "#renaming anti-sexual orientation group\n",
    "ml_2016['BIASMO1'] = ml_2016['BIASMO1'].replace(dict.fromkeys(['Anti-Lesbian, Gay, Bisexual, or Transgender, Mixed Group (LGBT)',\n",
    "                                                              'Anti-Female Homosexual', 'Anti-Heterosexual', 'Anti-Transgender',\n",
    "                                                               'Anti-Bisexual', 'Anti-Male Homosexual'], \n",
    "                                                              'Anti-Sexual Orientation'))"
   ]
  },
  {
   "cell_type": "code",
   "execution_count": 52,
   "metadata": {},
   "outputs": [
    {
     "data": {
      "text/plain": [
       "['Anti-Race',\n",
       " 'Anti-Sexual Orientation',\n",
       " 'Anti-Religion',\n",
       " 'Anti-Disability',\n",
       " 'Anti-Gender']"
      ]
     },
     "execution_count": 52,
     "metadata": {},
     "output_type": "execute_result"
    }
   ],
   "source": [
    "ml_2016['BIASMO1'].unique().tolist()"
   ]
  },
  {
   "cell_type": "code",
   "execution_count": null,
   "metadata": {},
   "outputs": [],
   "source": []
  }
 ],
 "metadata": {
  "kernelspec": {
   "display_name": "Python 3",
   "language": "python",
   "name": "python3"
  },
  "language_info": {
   "codemirror_mode": {
    "name": "ipython",
    "version": 3
   },
   "file_extension": ".py",
   "mimetype": "text/x-python",
   "name": "python",
   "nbconvert_exporter": "python",
   "pygments_lexer": "ipython3",
   "version": "3.6.7"
  }
 },
 "nbformat": 4,
 "nbformat_minor": 2
}
