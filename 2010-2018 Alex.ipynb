{
 "cells": [
  {
   "cell_type": "code",
   "execution_count": 1,
   "metadata": {},
   "outputs": [],
   "source": [
    "import pandas as pd\n",
    "import numpy as np"
   ]
  },
  {
   "cell_type": "code",
   "execution_count": 4,
   "metadata": {},
   "outputs": [
    {
     "name": "stderr",
     "output_type": "stream",
     "text": [
      "fatal: destination path 'Crime-Hate-Crime' already exists and is not an empty directory.\n"
     ]
    }
   ],
   "source": [
    "!git clone https://github.com/helenhc/Crime-Hate-Crime"
   ]
  },
  {
   "cell_type": "code",
   "execution_count": 6,
   "metadata": {},
   "outputs": [
    {
     "name": "stderr",
     "output_type": "stream",
     "text": [
      "fatal: Not a git repository (or any of the parent directories): .git\n"
     ]
    }
   ],
   "source": [
    "!git pull"
   ]
  },
  {
   "cell_type": "code",
   "execution_count": 7,
   "metadata": {},
   "outputs": [
    {
     "name": "stdout",
     "output_type": "stream",
     "text": [
      "C:\\Users\\jewis\\Crime-Hate-Crime\n"
     ]
    }
   ],
   "source": [
    "cd ~/Crime-Hate-Crime"
   ]
  },
  {
   "cell_type": "code",
   "execution_count": 8,
   "metadata": {},
   "outputs": [
    {
     "name": "stdout",
     "output_type": "stream",
     "text": [
      "Updating f04546e..492661d\n",
      "Fast-forward\n",
      " 2010/Table1.xls | Bin 0 -> 32256 bytes\n",
      " 2010/Table2.xls | Bin 0 -> 31744 bytes\n",
      " 2011/Table1.xls | Bin 0 -> 32768 bytes\n",
      " 2011/Table2.xls | Bin 0 -> 31744 bytes\n",
      " 2012/Table1.xls | Bin 0 -> 28672 bytes\n",
      " 2012/Table2.xls | Bin 0 -> 27648 bytes\n",
      " 2013/Table1.xls | Bin 0 -> 29696 bytes\n",
      " 2013/Table2.xls | Bin 0 -> 28672 bytes\n",
      " 2014/Table1.xls | Bin 0 -> 29696 bytes\n",
      " 2014/Table2.xls | Bin 0 -> 28672 bytes\n",
      " 2015/Table1.xls | Bin 0 -> 29696 bytes\n",
      " 2015/Table2.xls | Bin 0 -> 28672 bytes\n",
      " 2016/Table1.xls | Bin 0 -> 29696 bytes\n",
      " 2016/Table2.xls | Bin 0 -> 28672 bytes\n",
      " 2017/Table1.xls | Bin 0 -> 29696 bytes\n",
      " 2017/Table2.xls | Bin 0 -> 28160 bytes\n",
      " 2018/Table1.xls | Bin 0 -> 30208 bytes\n",
      " 2018/Table2.xls | Bin 0 -> 28160 bytes\n",
      " 18 files changed, 0 insertions(+), 0 deletions(-)\n",
      " create mode 100644 2010/Table1.xls\n",
      " create mode 100644 2010/Table2.xls\n",
      " create mode 100644 2011/Table1.xls\n",
      " create mode 100644 2011/Table2.xls\n",
      " create mode 100644 2012/Table1.xls\n",
      " create mode 100644 2012/Table2.xls\n",
      " create mode 100644 2013/Table1.xls\n",
      " create mode 100644 2013/Table2.xls\n",
      " create mode 100644 2014/Table1.xls\n",
      " create mode 100644 2014/Table2.xls\n",
      " create mode 100644 2015/Table1.xls\n",
      " create mode 100644 2015/Table2.xls\n",
      " create mode 100644 2016/Table1.xls\n",
      " create mode 100644 2016/Table2.xls\n",
      " create mode 100644 2017/Table1.xls\n",
      " create mode 100644 2017/Table2.xls\n",
      " create mode 100644 2018/Table1.xls\n",
      " create mode 100644 2018/Table2.xls\n"
     ]
    },
    {
     "name": "stderr",
     "output_type": "stream",
     "text": [
      "From https://github.com/helenhc/Crime-Hate-Crime\n",
      "   f04546e..492661d  master     -> origin/master\n"
     ]
    }
   ],
   "source": [
    "!git pull"
   ]
  },
  {
   "cell_type": "code",
   "execution_count": 1,
   "metadata": {},
   "outputs": [
    {
     "name": "stderr",
     "output_type": "stream",
     "text": [
      "bash: Unhandled device /dev/tty\n",
      "\n",
      "cat: write error: Bad file descriptor\n",
      "error: failed to execute prompt script (exit code 1)\n",
      "fatal: could not read Username for 'https://github.com': No error\n"
     ]
    }
   ],
   "source": [
    "!git push"
   ]
  },
  {
   "cell_type": "code",
   "execution_count": 2,
   "metadata": {},
   "outputs": [
    {
     "name": "stdout",
     "output_type": "stream",
     "text": [
      "On branch master\n",
      "Your branch is up to date with 'origin/master'.\n",
      "\n",
      "Untracked files:\n",
      "\t.ipynb_checkpoints/2010-2018 Alex-checkpoint.ipynb\n",
      "\t2010-2018 Alex.ipynb\n",
      "\n",
      "nothing added to commit but untracked files present\n"
     ]
    }
   ],
   "source": [
    "!git commit -m \"Adding 2010-2018 notebook to repo\""
   ]
  },
  {
   "cell_type": "code",
   "execution_count": 3,
   "metadata": {},
   "outputs": [
    {
     "name": "stderr",
     "output_type": "stream",
     "text": [
      "bash: Unhandled device /dev/tty\n",
      "\n",
      "cat: write error: Bad file descriptor\n",
      "error: failed to execute prompt script (exit code 1)\n",
      "fatal: could not read Username for 'https://github.com': No error\n"
     ]
    }
   ],
   "source": [
    "!git push origin master"
   ]
  },
  {
   "cell_type": "code",
   "execution_count": 4,
   "metadata": {},
   "outputs": [
    {
     "ename": "SyntaxError",
     "evalue": "invalid syntax (<ipython-input-4-88b2d726b9a5>, line 1)",
     "output_type": "error",
     "traceback": [
      "\u001b[1;36m  File \u001b[1;32m\"<ipython-input-4-88b2d726b9a5>\"\u001b[1;36m, line \u001b[1;32m1\u001b[0m\n\u001b[1;33m    git add -A\u001b[0m\n\u001b[1;37m          ^\u001b[0m\n\u001b[1;31mSyntaxError\u001b[0m\u001b[1;31m:\u001b[0m invalid syntax\n"
     ]
    }
   ],
   "source": [
    "git add -A"
   ]
  },
  {
   "cell_type": "code",
   "execution_count": 5,
   "metadata": {},
   "outputs": [
    {
     "name": "stderr",
     "output_type": "stream",
     "text": [
      "warning: LF will be replaced by CRLF in .ipynb_checkpoints/2010-2018 Alex-checkpoint.ipynb.\n",
      "The file will have its original line endings in your working directory.\n",
      "warning: LF will be replaced by CRLF in 2010-2018 Alex.ipynb.\n",
      "The file will have its original line endings in your working directory.\n"
     ]
    }
   ],
   "source": [
    "!git add -A"
   ]
  },
  {
   "cell_type": "code",
   "execution_count": null,
   "metadata": {},
   "outputs": [],
   "source": []
  }
 ],
 "metadata": {
  "kernelspec": {
   "display_name": "Python 3",
   "language": "python",
   "name": "python3"
  },
  "language_info": {
   "codemirror_mode": {
    "name": "ipython",
    "version": 3
   },
   "file_extension": ".py",
   "mimetype": "text/x-python",
   "name": "python",
   "nbconvert_exporter": "python",
   "pygments_lexer": "ipython3",
   "version": "3.5.4"
  }
 },
 "nbformat": 4,
 "nbformat_minor": 2
}
