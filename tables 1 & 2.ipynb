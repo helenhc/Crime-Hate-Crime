{
 "cells": [
  {
   "cell_type": "code",
   "execution_count": 3,
   "metadata": {},
   "outputs": [],
   "source": [
    "import os\n",
    "import pandas as pd\n",
    "import numpy as np\n",
    "import re \n",
    "import tabula"
   ]
  },
  {
   "cell_type": "code",
   "execution_count": 4,
   "metadata": {},
   "outputs": [],
   "source": [
    "df = tabula.read_pdf(\"2000.pdf\", pages='11-12')\n",
    "t1_00 = df[0]\n",
    "t2_00 = df[1]"
   ]
  },
  {
   "cell_type": "code",
   "execution_count": 5,
   "metadata": {},
   "outputs": [],
   "source": [
    "t1_00.head()\n",
    "t1_00 = t1_00.rename(columns={\"Incidents, Offenses, Victims, and Known Offenders\": \"Bias motivation\", \"Unnamed: 0\": \"Offenses\", \n",
    "                  \"Unnamed: 1\": \"Victims\", \"Unnamed: 2\": \"Known Offenders\"}) #missing incidents\n",
    "t1_00 = t1_00.loc[6:30, :]#.set_index('Bias motivation')\n",
    "t1_00['Bias motivation'] = t1_00['Bias motivation'].str.replace('\\d+', '')\n",
    "t1_00['Bias motivation'] = t1_00['Bias motivation'].str.replace(',', '')"
   ]
  },
  {
   "cell_type": "code",
   "execution_count": 6,
   "metadata": {},
   "outputs": [],
   "source": [
    "#loading in the dataset \n",
    "#table 1 \n",
    "t1_04 = pd.read_excel('2004/Table1.xls')\n",
    "t1_05 = pd.read_excel('2005/Table1.xls')\n",
    "t1_06 = pd.read_excel('2006/Table1.xls')\n",
    "t1_07 = pd.read_excel('2007/Table1.xls')\n",
    "t1_08 = pd.read_excel('2008/Table1.xls')\n",
    "t1_09 = pd.read_excel('2009/Table 1.xls')\n",
    "t1_10 = pd.read_excel('2010/Table1.xls')\n",
    "t1_11 = pd.read_excel('2011/Table1.xls')\n",
    "t1_12 = pd.read_excel('2012/Table1.xls')\n",
    "t1_13 = pd.read_excel('2013/Table1.xls')\n",
    "t1_14 = pd.read_excel('2014/Table1.xls')\n",
    "t1_15 = pd.read_excel('2015/Table1.xls')\n",
    "t1_16 = pd.read_excel('2016/Table1.xls')\n",
    "t1_17 = pd.read_excel('2017/Table1.xls')\n",
    "t1_18 = pd.read_excel('2018/Table1.xls')\n",
    "\n",
    "#table 2 \n",
    "t2_04 = pd.read_excel('2004/Table2.xls')\n",
    "t2_05 = pd.read_excel('2005/Table2.xls')\n",
    "t2_06 = pd.read_excel('2006/Table2.xls')\n",
    "t2_07 = pd.read_excel('2007/Table2.xls')\n",
    "t2_08 = pd.read_excel('2008/Table2.xls')\n",
    "t2_09 = pd.read_excel('2009/Table 2.xls')\n",
    "t2_10 = pd.read_excel('2010/Table2.xls')\n",
    "t2_11 = pd.read_excel('2011/Table2.xls')\n",
    "t2_12 = pd.read_excel('2012/Table2.xls')\n",
    "t2_13 = pd.read_excel('2013/Table2.xls')\n",
    "t2_14 = pd.read_excel('2014/Table2.xls')\n",
    "t2_15 = pd.read_excel('2015/Table2.xls')\n",
    "t2_16 = pd.read_excel('2016/Table2.xls')\n",
    "t2_17 = pd.read_excel('2017/Table2.xls')\n",
    "t2_18 = pd.read_excel('2018/Table2.xls')\n",
    "\n"
   ]
  },
  {
   "cell_type": "code",
   "execution_count": 7,
   "metadata": {},
   "outputs": [],
   "source": [
    "#cleaning table 1\n",
    "table1 = [t1_04, t1_05, t1_06, t1_07, t1_08, t1_09]\n",
    "for index, df in enumerate(table1):\n",
    "    table1[index] = df.rename(columns={\"Table 1\": \"Bias motivation\", \"Unnamed: 1\": \"Incidents\", \"Unnamed: 2\": \"Offenses\", \n",
    "                  \"Unnamed: 3\": \"Victims\", \"Unnamed: 4\": \"Known Offenders\"})\n",
    "    table1[index] = table1[index].loc[5:30, :].set_index('Bias motivation')\n",
    "    table1[index] = table1[index].rename(index=lambda s: re.sub(r'\\d+$', '', s)) #removing any digits inside the index column \n",
    "[t1_04, t1_05, t1_06, t1_07, t1_08, t1_09] = table1"
   ]
  },
  {
   "cell_type": "code",
   "execution_count": 8,
   "metadata": {},
   "outputs": [],
   "source": [
    "#cleaning table 1\n",
    "table1 = [t1_10, t1_11, t1_12, t1_13, t1_14, t1_15, t1_16, t1_17, t1_18]\n",
    "for index, df in enumerate(table1):\n",
    "    table1[index] = df.rename(columns={\"Table 1 \": \"Bias motivation\", \"Unnamed: 1\": \"Incidents\", \"Unnamed: 2\": \"Offenses\", \n",
    "                  \"Unnamed: 3\": \"Victims\", \"Unnamed: 4\": \"Known Offenders\"})\n",
    "    table1[index] = table1[index].loc[5:30, :].set_index('Bias motivation')\n",
    "    table1[index] = table1[index].rename(index=lambda s: re.sub(r'\\d+$', '', s)) #removing any digits inside the index column \n",
    "[t1_10, t1_11, t1_12, t1_13, t1_14, t1_15, t1_16, t1_17, t1_18] = table1"
   ]
  },
  {
   "cell_type": "code",
   "execution_count": 9,
   "metadata": {},
   "outputs": [],
   "source": [
    "#drop columns in tables\n",
    "table1_2 = [t1_10, t1_11, t1_12, t1_13, t1_14, t1_15, t1_16, t1_17, t1_18]\n",
    "for index, df in enumerate(table1):\n",
    "    df = df.drop([df.index[5], df.index[13], df.index[-4], df.index[-7]])\n",
    "    table1_2[index] = df\n",
    "[t1_10, t1_11, t1_12, t1_13, t1_14, t1_15, t1_16, t1_17, t1_18] = table1_2"
   ]
  },
  {
   "cell_type": "code",
   "execution_count": 10,
   "metadata": {},
   "outputs": [],
   "source": [
    "#dropping rows that are not needed (the totals)\n",
    "t1_04 = t1_04.drop(t1_04.index[5])\n",
    "t1_04 = t1_04.drop(t1_04.index[12])\n",
    "t1_04 = t1_04.drop(t1_04.index[-4])\n",
    "t1_04 = t1_04.drop(t1_04.index[-6])\n",
    "\n",
    "t1_05 = t1_05.drop(t1_05.index[5])\n",
    "t1_05 = t1_05.drop(t1_05.index[12])\n",
    "t1_05 = t1_05.drop(t1_05.index[-4])\n",
    "t1_05 = t1_05.drop(t1_05.index[-6])\n",
    "\n",
    "t1_06 = t1_06.drop(t1_06.index[5])\n",
    "t1_06 = t1_06.drop(t1_06.index[12])\n",
    "t1_06 = t1_06.drop(t1_06.index[-4])\n",
    "t1_06 = t1_06.drop(t1_06.index[-6])\n",
    "\n",
    "t1_07 = t1_07.drop(t1_07.index[5])\n",
    "t1_07 = t1_07.drop(t1_07.index[12])\n",
    "t1_07 = t1_07.drop(t1_07.index[-4])\n",
    "t1_07 = t1_07.drop(t1_07.index[-6])\n",
    "\n",
    "t1_08 = t1_08.drop(t1_08.index[5])\n",
    "t1_08 = t1_08.drop(t1_08.index[12])\n",
    "t1_08 = t1_08.drop(t1_08.index[-4])\n",
    "t1_08 = t1_08.drop(t1_08.index[-6])\n",
    "\n",
    "t1_09 = t1_09.drop(t1_09.index[5])\n",
    "t1_09 = t1_09.drop(t1_09.index[12])\n",
    "t1_09 = t1_09.drop(t1_09.index[-4])\n",
    "t1_09 = t1_09.drop(t1_09.index[-6])\n"
   ]
  },
  {
   "cell_type": "markdown",
   "metadata": {},
   "source": [
    "#### Making different subsets from the original table on the types of hate crimes (race, religion, sexual orientation, etc)"
   ]
  },
  {
   "cell_type": "code",
   "execution_count": 11,
   "metadata": {},
   "outputs": [],
   "source": [
    "race_04 = t1_04[:5]\n",
    "race_05 = t1_05[:5]\n",
    "race_06 = t1_06[:5]\n",
    "race_07 = t1_07[:5]\n",
    "race_08 = t1_08[:5]\n",
    "race_09 = t1_09[:5]"
   ]
  },
  {
   "cell_type": "code",
   "execution_count": 12,
   "metadata": {},
   "outputs": [],
   "source": [
    "religion_04 = t1_04[5:12]\n",
    "religion_05 = t1_05[5:12]\n",
    "religion_06 = t1_06[5:12]\n",
    "religion_07 = t1_07[5:12]\n",
    "religion_08 = t1_08[5:12]\n",
    "religion_09 = t1_09[5:12]\n"
   ]
  },
  {
   "cell_type": "code",
   "execution_count": 13,
   "metadata": {},
   "outputs": [],
   "source": [
    "sexual_orientation_04 = t1_04[12:17]\n",
    "sexual_orientation_05 = t1_05[12:17]\n",
    "sexual_orientation_06 = t1_06[12:17]\n",
    "sexual_orientation_07 = t1_07[12:17]\n",
    "sexual_orientation_08 = t1_08[12:17]\n",
    "sexual_orientation_09 = t1_09[12:17]\n"
   ]
  },
  {
   "cell_type": "code",
   "execution_count": 14,
   "metadata": {},
   "outputs": [],
   "source": [
    "ethnicity_04 = t1_04[17:19]\n",
    "ethnicity_05 = t1_05[17:19]\n",
    "ethnicity_06 = t1_06[17:19]\n",
    "ethnicity_07 = t1_07[17:19]\n",
    "ethnicity_08 = t1_08[17:19]\n",
    "ethnicity_09 = t1_09[17:19]"
   ]
  },
  {
   "cell_type": "code",
   "execution_count": 15,
   "metadata": {},
   "outputs": [],
   "source": [
    "disability_04 = t1_04[-3:-1]\n",
    "disability_05 = t1_05[-3:-1]\n",
    "disability_06 = t1_06[-3:-1]\n",
    "disability_07 = t1_07[-3:-1]\n",
    "disability_08 = t1_08[-3:-1]\n",
    "disability_09 = t1_09[-3:-1]\n"
   ]
  },
  {
   "cell_type": "code",
   "execution_count": 16,
   "metadata": {},
   "outputs": [
    {
     "data": {
      "text/plain": [
       "array([1.00736377, 0.98647744, 1.04833311, 1.08207257, 0.9848708 ,\n",
       "       0.89088231])"
      ]
     },
     "execution_count": 16,
     "metadata": {},
     "output_type": "execute_result"
    }
   ],
   "source": [
    "ethnicity_sums = [\n",
    "    ethnicity_04['Victims'].sum(),\n",
    "    ethnicity_05['Victims'].sum(),\n",
    "    ethnicity_06['Victims'].sum(),\n",
    "    ethnicity_07['Victims'].sum(),\n",
    "    ethnicity_08['Victims'].sum(),\n",
    "    ethnicity_09['Victims'].sum()\n",
    "]\n",
    "total_ethnicity = np.sum(ethnicity_sums)/len(ethnicity_sums)\n",
    "ethnicity_sums/total_ethnicity"
   ]
  },
  {
   "cell_type": "code",
   "execution_count": 17,
   "metadata": {},
   "outputs": [
    {
     "ename": "NameError",
     "evalue": "name 'plt' is not defined",
     "output_type": "error",
     "traceback": [
      "\u001b[0;31m---------------------------------------------------------------------------\u001b[0m",
      "\u001b[0;31mNameError\u001b[0m                                 Traceback (most recent call last)",
      "\u001b[0;32m<ipython-input-17-186810633b4a>\u001b[0m in \u001b[0;36m<module>\u001b[0;34m\u001b[0m\n\u001b[1;32m      7\u001b[0m \u001b[0mwidth\u001b[0m \u001b[0;34m=\u001b[0m \u001b[0;36m0.35\u001b[0m       \u001b[0;31m# the width of the bars: can also be len(x) sequence\u001b[0m\u001b[0;34m\u001b[0m\u001b[0;34m\u001b[0m\u001b[0m\n\u001b[1;32m      8\u001b[0m \u001b[0;34m\u001b[0m\u001b[0m\n\u001b[0;32m----> 9\u001b[0;31m \u001b[0mp1\u001b[0m \u001b[0;34m=\u001b[0m \u001b[0mplt\u001b[0m\u001b[0;34m.\u001b[0m\u001b[0mbar\u001b[0m\u001b[0;34m(\u001b[0m\u001b[0mind\u001b[0m\u001b[0;34m,\u001b[0m \u001b[0mmenMeans\u001b[0m\u001b[0;34m,\u001b[0m \u001b[0mwidth\u001b[0m\u001b[0;34m,\u001b[0m \u001b[0myerr\u001b[0m\u001b[0;34m=\u001b[0m\u001b[0mmenStd\u001b[0m\u001b[0;34m)\u001b[0m\u001b[0;34m\u001b[0m\u001b[0;34m\u001b[0m\u001b[0m\n\u001b[0m\u001b[1;32m     10\u001b[0m p2 = plt.bar(ind, womenMeans, width,\n\u001b[1;32m     11\u001b[0m              bottom=menMeans, yerr=womenStd)\n",
      "\u001b[0;31mNameError\u001b[0m: name 'plt' is not defined"
     ]
    }
   ],
   "source": [
    "N = 6\n",
    "menMeans = (20, 35, 30, 35, 27)\n",
    "womenMeans = (25, 32, 34, 20, 25)\n",
    "menStd = (2, 3, 4, 1, 2)\n",
    "womenStd = (3, 5, 2, 3, 3)\n",
    "ind = np.arange(N)    # the x locations for the groups\n",
    "width = 0.35       # the width of the bars: can also be len(x) sequence\n",
    "\n",
    "p1 = plt.bar(ind, menMeans, width, yerr=menStd)\n",
    "p2 = plt.bar(ind, womenMeans, width,\n",
    "             bottom=menMeans, yerr=womenStd)"
   ]
  },
  {
   "cell_type": "code",
   "execution_count": 18,
   "metadata": {},
   "outputs": [],
   "source": [
    "#cleaning table 2 \n",
    "table2 = [t2_04, t2_05, t2_06, t2_07, t2_08, t2_09]\n",
    "for index, df in enumerate(table2):\n",
    "    table2[index] = df.rename(columns={\"Table 2\": \"Offense Type\", \"Unnamed: 1\": \"Incidents\", \"Unnamed: 2\": \"Offenses\", \n",
    "                  \"Unnamed: 3\": \"Victims\", \"Unnamed: 4\": \"Known Offenders\"})\n",
    "    table2[index] = table2[index].loc[4:18, :].set_index('Offense Type')\n",
    "    table2[index] = table2[index].rename(index=lambda s: re.sub(r'\\d+$', '', s)) #removing any digits inside the index column \n",
    "[t2_04, t2_05, t2_06, t2_07, t2_08, t2_09] = table2"
   ]
  },
  {
   "cell_type": "code",
   "execution_count": 19,
   "metadata": {},
   "outputs": [],
   "source": [
    "crimes_a_persons = t2_04[:6]\n",
    "crimes_a_property = t2_04[7:14]\n",
    "crimes_a_society = t2_04[-1:]"
   ]
  },
  {
   "cell_type": "code",
   "execution_count": 20,
   "metadata": {},
   "outputs": [
    {
     "data": {
      "text/html": [
       "<div>\n",
       "<style scoped>\n",
       "    .dataframe tbody tr th:only-of-type {\n",
       "        vertical-align: middle;\n",
       "    }\n",
       "\n",
       "    .dataframe tbody tr th {\n",
       "        vertical-align: top;\n",
       "    }\n",
       "\n",
       "    .dataframe thead th {\n",
       "        text-align: right;\n",
       "    }\n",
       "</style>\n",
       "<table border=\"1\" class=\"dataframe\">\n",
       "  <thead>\n",
       "    <tr style=\"text-align: right;\">\n",
       "      <th></th>\n",
       "      <th>Incidents</th>\n",
       "      <th>Offenses</th>\n",
       "      <th>Victims</th>\n",
       "      <th>Known Offenders</th>\n",
       "    </tr>\n",
       "    <tr>\n",
       "      <th>Offense Type</th>\n",
       "      <th></th>\n",
       "      <th></th>\n",
       "      <th></th>\n",
       "      <th></th>\n",
       "    </tr>\n",
       "  </thead>\n",
       "  <tbody>\n",
       "    <tr>\n",
       "      <td>Murder and nonnegligent manslaughter</td>\n",
       "      <td>5</td>\n",
       "      <td>5</td>\n",
       "      <td>5</td>\n",
       "      <td>5</td>\n",
       "    </tr>\n",
       "    <tr>\n",
       "      <td>Forcible rape</td>\n",
       "      <td>4</td>\n",
       "      <td>4</td>\n",
       "      <td>4</td>\n",
       "      <td>5</td>\n",
       "    </tr>\n",
       "    <tr>\n",
       "      <td>Aggravated assault</td>\n",
       "      <td>765</td>\n",
       "      <td>1040</td>\n",
       "      <td>1040</td>\n",
       "      <td>1316</td>\n",
       "    </tr>\n",
       "    <tr>\n",
       "      <td>Simple assault</td>\n",
       "      <td>1448</td>\n",
       "      <td>1750</td>\n",
       "      <td>1750</td>\n",
       "      <td>2190</td>\n",
       "    </tr>\n",
       "    <tr>\n",
       "      <td>Intimidation</td>\n",
       "      <td>2267</td>\n",
       "      <td>2827</td>\n",
       "      <td>2827</td>\n",
       "      <td>2173</td>\n",
       "    </tr>\n",
       "    <tr>\n",
       "      <td>Other</td>\n",
       "      <td>14</td>\n",
       "      <td>16</td>\n",
       "      <td>16</td>\n",
       "      <td>21</td>\n",
       "    </tr>\n",
       "    <tr>\n",
       "      <td>Robbery</td>\n",
       "      <td>112</td>\n",
       "      <td>112</td>\n",
       "      <td>142</td>\n",
       "      <td>241</td>\n",
       "    </tr>\n",
       "    <tr>\n",
       "      <td>Burglary</td>\n",
       "      <td>146</td>\n",
       "      <td>146</td>\n",
       "      <td>169</td>\n",
       "      <td>130</td>\n",
       "    </tr>\n",
       "    <tr>\n",
       "      <td>Larceny-theft</td>\n",
       "      <td>169</td>\n",
       "      <td>169</td>\n",
       "      <td>186</td>\n",
       "      <td>134</td>\n",
       "    </tr>\n",
       "    <tr>\n",
       "      <td>Motor vehicle theft</td>\n",
       "      <td>15</td>\n",
       "      <td>15</td>\n",
       "      <td>15</td>\n",
       "      <td>8</td>\n",
       "    </tr>\n",
       "    <tr>\n",
       "      <td>Arson</td>\n",
       "      <td>44</td>\n",
       "      <td>44</td>\n",
       "      <td>57</td>\n",
       "      <td>45</td>\n",
       "    </tr>\n",
       "    <tr>\n",
       "      <td>Destruction/damage/vandalism</td>\n",
       "      <td>2812</td>\n",
       "      <td>2812</td>\n",
       "      <td>3220</td>\n",
       "      <td>1115</td>\n",
       "    </tr>\n",
       "    <tr>\n",
       "      <td>Other</td>\n",
       "      <td>35</td>\n",
       "      <td>35</td>\n",
       "      <td>37</td>\n",
       "      <td>38</td>\n",
       "    </tr>\n",
       "    <tr>\n",
       "      <td>Crimes against society</td>\n",
       "      <td>60</td>\n",
       "      <td>60</td>\n",
       "      <td>60</td>\n",
       "      <td>75</td>\n",
       "    </tr>\n",
       "  </tbody>\n",
       "</table>\n",
       "</div>"
      ],
      "text/plain": [
       "                                     Incidents Offenses Victims  \\\n",
       "Offense Type                                                      \n",
       "Murder and nonnegligent manslaughter         5        5       5   \n",
       "Forcible rape                                4        4       4   \n",
       "Aggravated assault                         765     1040    1040   \n",
       "Simple assault                            1448     1750    1750   \n",
       "Intimidation                              2267     2827    2827   \n",
       "Other                                       14       16      16   \n",
       "Robbery                                    112      112     142   \n",
       "Burglary                                   146      146     169   \n",
       "Larceny-theft                              169      169     186   \n",
       "Motor vehicle theft                         15       15      15   \n",
       "Arson                                       44       44      57   \n",
       "Destruction/damage/vandalism              2812     2812    3220   \n",
       "Other                                       35       35      37   \n",
       "Crimes against society                      60       60      60   \n",
       "\n",
       "                                     Known Offenders  \n",
       "Offense Type                                          \n",
       "Murder and nonnegligent manslaughter               5  \n",
       "Forcible rape                                      5  \n",
       "Aggravated assault                              1316  \n",
       "Simple assault                                  2190  \n",
       "Intimidation                                    2173  \n",
       "Other                                             21  \n",
       "Robbery                                          241  \n",
       "Burglary                                         130  \n",
       "Larceny-theft                                    134  \n",
       "Motor vehicle theft                                8  \n",
       "Arson                                             45  \n",
       "Destruction/damage/vandalism                    1115  \n",
       "Other                                             38  \n",
       "Crimes against society                            75  "
      ]
     },
     "execution_count": 20,
     "metadata": {},
     "output_type": "execute_result"
    }
   ],
   "source": [
    "t2_04 = t2_04.drop(t2_04.index[6])\n",
    "t2_04"
   ]
  },
  {
   "cell_type": "code",
   "execution_count": null,
   "metadata": {},
   "outputs": [],
   "source": []
  }
 ],
 "metadata": {
  "kernelspec": {
   "display_name": "Python 3",
   "language": "python",
   "name": "python3"
  },
  "language_info": {
   "codemirror_mode": {
    "name": "ipython",
    "version": 3
   },
   "file_extension": ".py",
   "mimetype": "text/x-python",
   "name": "python",
   "nbconvert_exporter": "python",
   "pygments_lexer": "ipython3",
   "version": "3.7.4"
  }
 },
 "nbformat": 4,
 "nbformat_minor": 2
}
