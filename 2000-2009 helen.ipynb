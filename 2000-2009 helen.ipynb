{
 "cells": [
  {
   "cell_type": "code",
   "execution_count": 7,
   "metadata": {},
   "outputs": [],
   "source": [
    "import os\n",
    "import pandas as pd\n",
    "import numpy as np\n",
    "import re "
   ]
  },
  {
   "cell_type": "code",
   "execution_count": 18,
   "metadata": {},
   "outputs": [],
   "source": [
    "#loading in the dataset \n",
    "#table 1 \n",
    "t1_04 = pd.read_excel('2004/Table1.xls')\n",
    "t1_05 = pd.read_excel('2005/Table1.xls')\n",
    "t1_06 = pd.read_excel('2006/Table1.xls')\n",
    "t1_07 = pd.read_excel('2007/Table1.xls')\n",
    "t1_08 = pd.read_excel('2008/Table1.xls')\n",
    "t1_09 = pd.read_excel('2009/Table 1.xls')\n",
    "\n",
    "#table 2 \n",
    "t2_04 = pd.read_excel('2004/Table2.xls')\n",
    "t2_05 = pd.read_excel('2005/Table2.xls')\n",
    "t2_06 = pd.read_excel('2006/Table2.xls')\n",
    "t2_07 = pd.read_excel('2007/Table2.xls')\n",
    "t2_08 = pd.read_excel('2008/Table2.xls')\n",
    "t2_09 = pd.read_excel('2009/Table 2.xls')\n"
   ]
  },
  {
   "cell_type": "code",
   "execution_count": 19,
   "metadata": {},
   "outputs": [],
   "source": [
    "#cleaning table 1\n",
    "table1 = [t1_04, t1_05, t1_06, t1_07, t1_08, t1_09]\n",
    "for index, df in enumerate(table1):\n",
    "    table1[index] = df.rename(columns={\"Table 1\": \"Bias motivation\", \"Unnamed: 1\": \"Incidents\", \"Unnamed: 2\": \"Offenses\", \n",
    "                  \"Unnamed: 3\": \"Victims\", \"Unnamed: 4\": \"Known Offenders\"})\n",
    "    table1[index] = table1[index].loc[5:30, :].set_index('Bias motivation')\n",
    "    table1[index] = table1[index].rename(index=lambda s: re.sub(r'\\d+$', '', s)) #removing any digits inside the index column \n",
    "[t1_04, t1_05, t1_06, t1_07, t1_08, t1_09] = table1"
   ]
  },
  {
   "cell_type": "code",
   "execution_count": null,
   "metadata": {},
   "outputs": [],
   "source": [
    "#dropping rows that are not needed (the totals)\n",
    "t1_04 = t1_04.drop(t1_04.index[5])\n",
    "t1_04 = t1_04.drop(t1_04.index[12])\n",
    "t1_04 = t1_04.drop(t1_04.index[-4])\n",
    "t1_04 = t1_04.drop(t1_04.index[-6])\n",
    "\n",
    "t1_04"
   ]
  },
  {
   "cell_type": "code",
   "execution_count": null,
   "metadata": {},
   "outputs": [],
   "source": [
    "race = t1_04[:5]\n",
    "race "
   ]
  },
  {
   "cell_type": "code",
   "execution_count": null,
   "metadata": {},
   "outputs": [],
   "source": [
    "religion = t1_04[5:12]\n",
    "religion"
   ]
  },
  {
   "cell_type": "code",
   "execution_count": null,
   "metadata": {},
   "outputs": [],
   "source": [
    "sexual_orientation = t1_04[12:17]\n",
    "sexual_orientation"
   ]
  },
  {
   "cell_type": "code",
   "execution_count": null,
   "metadata": {},
   "outputs": [],
   "source": [
    "ethnicity = t1_04[17:19]\n",
    "ethnicity"
   ]
  },
  {
   "cell_type": "code",
   "execution_count": null,
   "metadata": {},
   "outputs": [],
   "source": [
    "disability = t1_04[-3:-1]\n",
    "disability"
   ]
  },
  {
   "cell_type": "code",
   "execution_count": null,
   "metadata": {},
   "outputs": [],
   "source": [
    "#cleaning table 2 \n",
    "table2 = [t2_04, t2_05, t2_06, t2_07, t2_08, t2_09]\n",
    "for index, df in enumerate(table2):\n",
    "    table2[index] = df.rename(columns={\"Table 2\": \"Offense Type\", \"Unnamed: 1\": \"Incidents\", \"Unnamed: 2\": \"Offenses\", \n",
    "                  \"Unnamed: 3\": \"Victims\", \"Unnamed: 4\": \"Known Offenders\"})\n",
    "    table2[index] = table2[index].loc[4:18, :].set_index('Offense Type')\n",
    "    table2[index] = table2[index].rename(index=lambda s: re.sub(r'\\d+$', '', s)) #removing any digits inside the index column \n",
    "[t2_04, t2_05, t2_06, t2_07, t2_08, t2_09] = table2"
   ]
  },
  {
   "cell_type": "code",
   "execution_count": null,
   "metadata": {},
   "outputs": [],
   "source": [
    "crimes_a_persons = t2_04[:6]\n",
    "crimes_a_property = t2_04[7:14]\n",
    "crimes_a_society = t2_04[-1:]"
   ]
  },
  {
   "cell_type": "code",
   "execution_count": null,
   "metadata": {},
   "outputs": [],
   "source": [
    "t2_04 = t2_04.drop(t2_04.index[6])\n",
    "t2_04"
   ]
  },
  {
   "cell_type": "code",
   "execution_count": null,
   "metadata": {},
   "outputs": [],
   "source": []
  }
 ],
 "metadata": {
  "kernelspec": {
   "display_name": "Python 3",
   "language": "python",
   "name": "python3"
  },
  "language_info": {
   "codemirror_mode": {
    "name": "ipython",
    "version": 3
   },
   "file_extension": ".py",
   "mimetype": "text/x-python",
   "name": "python",
   "nbconvert_exporter": "python",
   "pygments_lexer": "ipython3",
   "version": "3.7.4"
  }
 },
 "nbformat": 4,
 "nbformat_minor": 2
}
