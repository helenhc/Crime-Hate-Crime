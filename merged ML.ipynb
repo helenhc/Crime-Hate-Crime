{
 "cells": [
  {
   "cell_type": "code",
   "execution_count": 33,
   "metadata": {},
   "outputs": [],
   "source": [
    "import pandas as pd\n",
    "import numpy as np"
   ]
  },
  {
   "cell_type": "code",
   "execution_count": 34,
   "metadata": {},
   "outputs": [],
   "source": [
    "ml_2005 = pd.read_stata('ML_Data/23441-0002-Data.dta', columns=['ORI','CITY','STATECOD','REGION','JUDDIST','POP1','MASTERYR','BIASMO1','LOCCOD1','QUARTER'])\n",
    "ml_2015 = pd.read_stata('ML_Data/2015_ML.dta')\n",
    "ml_2016 = pd.read_stata('ML_Data/2016_ML.dta')\n"
   ]
  },
  {
   "cell_type": "code",
   "execution_count": 35,
   "metadata": {},
   "outputs": [],
   "source": [
    "anti_race = ['Anti-Black',\n",
    "            'Anti-Am Indian',\n",
    "            'Anti-Asian',\n",
    "            'Anti-White',\n",
    "            'Anti-Other ethnicity',\n",
    "            'Anti-Multi-Racial',\n",
    "            'Anti-Hispanic']\n",
    "\n",
    "anti_sexual = ['Anti-Male Homosexual',\n",
    "                'Anti-Bisexual',\n",
    "                'Anti-Homosexual (both)',\n",
    "                'Anti-Heterosexual',\n",
    "                'Anti-Female Homosexual']\n",
    "\n",
    "anti_religion = ['Anti-Catholic',\n",
    "                'Anti-Islamic',\n",
    "                'Anti-Protestant',\n",
    "                'Anti-Jewish',\n",
    "                'Anti-Atheism/Agnosticism',\n",
    "                'Anti-Multi-Religious',\n",
    "                'Anti-Other Religion']\n",
    "\n",
    "anti_handicap = ['Anti-Physical Disability', 'Anti-Mental Disability']\n",
    "\n",
    "ml_2005['BIASMO1'] = ml_2005['BIASMO1'].replace(dict.fromkeys(anti_race,'Anti-Race'))\n",
    "ml_2005['BIASMO1'] = ml_2005['BIASMO1'].replace(dict.fromkeys(anti_sexual,'Anti-Sexual Orientation'))\n",
    "ml_2005['BIASMO1'] = ml_2005['BIASMO1'].replace(dict.fromkeys(anti_religion,'Anti-Religion'))\n",
    "ml_2005['BIASMO1'] = ml_2005['BIASMO1'].replace(dict.fromkeys(anti_handicap,'Anti-Disability'))"
   ]
  },
  {
   "cell_type": "code",
   "execution_count": 36,
   "metadata": {},
   "outputs": [],
   "source": [
    "ml_2006 = pd.read_stata('ML_Data/22406-0002-Data.dta', columns=['ORI','CITY','STATECOD','REGION','JUDDIST','POP1','MASTERYR','BIASMO1','LOCCOD1','QUARTER'])\n",
    "ml_2006 = ml_2006.dropna(axis = 1)\n",
    "ml_2006['BIASMO1'] = ml_2006['BIASMO1'].replace(dict.fromkeys(anti_race,'Anti-Race'))\n",
    "ml_2006['BIASMO1'] = ml_2006['BIASMO1'].replace(dict.fromkeys(anti_sexual,'Anti-Sexual Orientation'))\n",
    "ml_2006['BIASMO1'] = ml_2006['BIASMO1'].replace(dict.fromkeys(anti_religion,'Anti-Religion'))\n",
    "ml_2006['BIASMO1'] = ml_2006['BIASMO1'].replace(dict.fromkeys(anti_handicap,'Anti-Disability'))"
   ]
  },
  {
   "cell_type": "code",
   "execution_count": 37,
   "metadata": {},
   "outputs": [],
   "source": [
    "ml_2007 = pd.read_stata('ML_Data/25107-0002-Data.dta', columns=['ORI','CITY','STATECOD','REGION','JUDDIST','POP1','MASTERYR','BIASMO1','LOCCOD1','QUARTER'])\n",
    "ml_2007 = ml_2007.dropna(axis = 1)\n",
    "\n",
    "ml_2007['BIASMO1'] = ml_2007['BIASMO1'].replace(dict.fromkeys(anti_race,'Anti-Race'))\n",
    "ml_2007['BIASMO1'] = ml_2007['BIASMO1'].replace(dict.fromkeys(anti_sexual,'Anti-Sexual Orientation'))\n",
    "ml_2007['BIASMO1'] = ml_2007['BIASMO1'].replace(dict.fromkeys(anti_religion,'Anti-Religion'))\n",
    "ml_2007['BIASMO1'] = ml_2007['BIASMO1'].replace(dict.fromkeys(anti_handicap,'Anti-Disability'))"
   ]
  },
  {
   "cell_type": "code",
   "execution_count": 38,
   "metadata": {},
   "outputs": [],
   "source": [
    "ml_2008 = pd.read_stata('ML_Data/27645-0002-Data.dta', columns=['ORI','CITY','STATECOD','REGION','JUDDIST','POP1','MASTERYR','BIASMO1','LOCCOD1','QUARTER'])\n",
    "ml_2008 = ml_2007.dropna(axis = 1)\n",
    "ml_2008['BIASMO1'] = ml_2008['BIASMO1'].replace(dict.fromkeys(anti_race,'Anti-Race'))\n",
    "ml_2008['BIASMO1'] = ml_2008['BIASMO1'].replace(dict.fromkeys(anti_sexual,'Anti-Sexual Orientation'))\n",
    "ml_2008['BIASMO1'] = ml_2008['BIASMO1'].replace(dict.fromkeys(anti_religion,'Anti-Religion'))\n",
    "ml_2008['BIASMO1'] = ml_2008['BIASMO1'].replace(dict.fromkeys(anti_handicap,'Anti-Disability'))"
   ]
  },
  {
   "cell_type": "code",
   "execution_count": 39,
   "metadata": {},
   "outputs": [],
   "source": [
    "ml_2009 = pd.read_stata('ML_Data/30764-0002-Data.dta', columns=['ORI','CITY','STATECOD','REGION','JUDDIST','POP1','MASTERYR','BIASMO1','LOCCOD1','QUARTER'])\n",
    "ml_2009 = ml_2008.dropna(axis = 1)\n",
    "ml_2009['BIASMO1'] = ml_2009['BIASMO1'].replace(dict.fromkeys(anti_race,'Anti-Race'))\n",
    "ml_2009['BIASMO1'] = ml_2009['BIASMO1'].replace(dict.fromkeys(anti_sexual,'Anti-Sexual Orientation'))\n",
    "ml_2009['BIASMO1'] = ml_2009['BIASMO1'].replace(dict.fromkeys(anti_religion,'Anti-Religion'))\n",
    "ml_2009['BIASMO1'] = ml_2009['BIASMO1'].replace(dict.fromkeys(anti_handicap,'Anti-Disability'))"
   ]
  },
  {
   "cell_type": "code",
   "execution_count": 40,
   "metadata": {},
   "outputs": [],
   "source": [
    "ml_2015 = ml_2015[['MASTERYR', 'ORI', 'REGION', 'STATECOD', 'CITY', 'BIASMO1', 'POP1', 'LOCCOD1', 'JUDDIST',\n",
    "    'QUARTER']]\n",
    "ml_2016 = ml_2016[['MASTERYR', 'ORI', 'REGION', 'STATECOD', 'CITY', 'BIASMO1', 'POP1', 'LOCCOD1', 'JUDDIST',\n",
    "    'QUARTER']]"
   ]
  },
  {
   "cell_type": "code",
   "execution_count": 41,
   "metadata": {},
   "outputs": [],
   "source": [
    "#renaming anti-disability group 2015\n",
    "ml_2015['BIASMO1'] = ml_2015['BIASMO1'].replace(dict.fromkeys(['Anti-Physical Disability','Anti-Mental Disability'], \n",
    "                                                              'Anti-Disability'))\n",
    "\n",
    "#renaming anti-religion group\n",
    "ml_2015['BIASMO1'] = ml_2015['BIASMO1'].replace(dict.fromkeys(['Anti-Catholic','Anti-Islamic', 'Anti-Jewish', \n",
    "                                                              \"Anti-Jehovah's Witness\", 'Anti-Other Christian', 'Anti-Hindu',\n",
    "                                                              'Anti-Mormon','Anti-Buddhist', 'Anti-Other Religion', \n",
    "                                                              'Anti-Multi-Religious', 'Anti-Protestant', 'Anti-Sikh',\n",
    "                                                               'Anti-Atheism/Agnosticism'], \n",
    "                                                              'Anti-Religion'))\n",
    "\n",
    "#renaming anti-race group\n",
    "ml_2015['BIASMO1'] = ml_2015['BIASMO1'].replace(dict.fromkeys(['Anti-White','Anti-Not Hispanic or Latino', 'Anti-Asian', \n",
    "                                                              'Anti-Black or African American', 'Anti-Multi-Racial', \n",
    "                                                              'Anti-American Indian or Alaska Native', 'Anti-Hispanic or Latino',\n",
    "                                                               'Anti-Native Hawaiian or Other Pacific Islander', \n",
    "                                                              'Anti-Eastern Orthodox (Greek, Russian, etc.)', 'Anti-Arab'], \n",
    "                                                              'Anti-Race'))\n",
    "\n",
    "#renaming anti-gender group\n",
    "ml_2015['BIASMO1'] = ml_2015['BIASMO1'].replace(dict.fromkeys(['Anti-Female','Anti-Male', 'Anti-Gender Non-Conforming'], \n",
    "                                                              'Anti-Gender'))\n",
    "\n",
    "#renaming anti-sexual orientation group\n",
    "ml_2015['BIASMO1'] = ml_2015['BIASMO1'].replace(dict.fromkeys(['Anti-Lesbian, Gay, Bisexual, or Transgender, Mixed Group (LGBT)',\n",
    "                                                              'Anti-Female Homosexual', 'Anti-Heterosexual', 'Anti-Transgender',\n",
    "                                                               'Anti-Bisexual', 'Anti-Male Homosexual'], \n",
    "                                                              'Anti-Sexual Orientation'))"
   ]
  },
  {
   "cell_type": "code",
   "execution_count": 42,
   "metadata": {},
   "outputs": [],
   "source": [
    "#renaming anti-disability group 2016\n",
    "ml_2016['BIASMO1'] = ml_2016['BIASMO1'].replace(dict.fromkeys(['Anti-Physical Disability','Anti-Mental Disability'], \n",
    "                                                              'Anti-Disability'))\n",
    "\n",
    "#renaming anti-religion group\n",
    "ml_2016['BIASMO1'] = ml_2016['BIASMO1'].replace(dict.fromkeys(['Anti-Catholic','Anti-Islamic', 'Anti-Jewish', \n",
    "                                                              \"Anti-Jehovah's Witness\", 'Anti-Other Christian', 'Anti-Hindu',\n",
    "                                                              'Anti-Mormon','Anti-Buddhist', 'Anti-Other Religion', \n",
    "                                                              'Anti-Multi-Religious', 'Anti-Protestant', 'Anti-Sikh',\n",
    "                                                               'Anti-Atheism/Agnosticism'], \n",
    "                                                              'Anti-Religion'))\n",
    "\n",
    "#renaming anti-race group\n",
    "ml_2016['BIASMO1'] = ml_2016['BIASMO1'].replace(dict.fromkeys(['Anti-White','Anti-Not Hispanic or Latino', 'Anti-Asian', \n",
    "                                                              'Anti-Black or African American', 'Anti-Multi-Racial', \n",
    "                                                              'Anti-American Indian or Alaska Native', 'Anti-Hispanic or Latino',\n",
    "                                                               'Anti-Native Hawaiian or Other Pacific Islander', \n",
    "                                                              'Anti-Eastern Orthodox (Greek, Russian, etc.)', 'Anti-Arab'], \n",
    "                                                              'Anti-Race'))\n",
    "\n",
    "#renaming anti-gender group\n",
    "ml_2016['BIASMO1'] = ml_2016['BIASMO1'].replace(dict.fromkeys(['Anti-Female','Anti-Male', 'Anti-Gender Non-Conforming'], \n",
    "                                                              'Anti-Gender'))\n",
    "\n",
    "#renaming anti-sexual orientation group\n",
    "ml_2016['BIASMO1'] = ml_2016['BIASMO1'].replace(dict.fromkeys(['Anti-Lesbian, Gay, Bisexual, or Transgender, Mixed Group (LGBT)',\n",
    "                                                              'Anti-Female Homosexual', 'Anti-Heterosexual', 'Anti-Transgender',\n",
    "                                                               'Anti-Bisexual', 'Anti-Male Homosexual'], \n",
    "                                                              'Anti-Sexual Orientation'))"
   ]
  },
  {
   "cell_type": "code",
   "execution_count": 43,
   "metadata": {},
   "outputs": [],
   "source": [
    "ml_2005 = ml_2005.rename(columns = {'BIASMO1':'BIAS MOTIVATION', 'LOCCOD1':'LOCATION', 'MASTERYR':'YEAR', 'ORI':'AGENCY IDENTIFIER', 'STATECOD':'STATE', 'JUDDIST':'JUDICIAL DISTRICT', 'POP1': 'POPULATION'})\n",
    "ml_2006 = ml_2006.rename(columns = {'BIASMO1':'BIAS MOTIVATION', 'LOCCOD1':'LOCATION', 'MASTERYR':'YEAR', 'ORI':'AGENCY IDENTIFIER', 'STATECOD':'STATE', 'JUDDIST':'JUDICIAL DISTRICT', 'POP1': 'POPULATION'})\n",
    "ml_2007 = ml_2007.rename(columns = {'BIASMO1':'BIAS MOTIVATION', 'LOCCOD1':'LOCATION', 'MASTERYR':'YEAR', 'ORI':'AGENCY IDENTIFIER', 'STATECOD':'STATE', 'JUDDIST':'JUDICIAL DISTRICT', 'POP1': 'POPULATION'})\n",
    "ml_2008 = ml_2008.rename(columns = {'BIASMO1':'BIAS MOTIVATION', 'LOCCOD1':'LOCATION', 'MASTERYR':'YEAR', 'ORI':'AGENCY IDENTIFIER', 'STATECOD':'STATE', 'JUDDIST':'JUDICIAL DISTRICT', 'POP1': 'POPULATION'})\n",
    "ml_2009 = ml_2009.rename(columns = {'BIASMO1':'BIAS MOTIVATION', 'LOCCOD1':'LOCATION', 'MASTERYR':'YEAR', 'ORI':'AGENCY IDENTIFIER', 'STATECOD':'STATE', 'JUDDIST':'JUDICIAL DISTRICT', 'POP1': 'POPULATION'})\n",
    "ml_2015 = ml_2015.rename(columns = {'BIASMO1':'BIAS MOTIVATION', 'LOCCOD1':'LOCATION', 'MASTERYR':'YEAR', 'ORI':'AGENCY IDENTIFIER', 'STATECOD':'STATE', 'JUDDIST':'JUDICIAL DISTRICT', 'POP1': 'POPULATION'})\n",
    "ml_2016 = ml_2016.rename(columns = {'BIASMO1':'BIAS MOTIVATION', 'LOCCOD1':'LOCATION', 'MASTERYR':'YEAR', 'ORI':'AGENCY IDENTIFIER', 'STATECOD':'STATE', 'JUDDIST':'JUDICIAL DISTRICT', 'POP1': 'POPULATION'})\n"
   ]
  },
  {
   "cell_type": "code",
   "execution_count": 44,
   "metadata": {},
   "outputs": [],
   "source": [
    "ml_2003 = pd.read_stata('ML_Data/23600-0002-Data.dta').drop(columns =['STATNUM','VTYP_O9','VTYP_S9','VTYP_R9','ORINIBRS','ORIADDDT','CORECTY','VTYP_G9','VTYP_U9','VTYP_B9','VTYP_F9','VTYP_I10','VTYP_B10','VTYP_F10','VTYP_G10','VTYP_G8','VTYP_F8','VTYP_B8','VTYP_I8','VTYP_U7','VTYP_O7','VTYP_S7','VTYP_R7','VTYP_G7','VTYP_F7','VTYP_B7','VTYP_R8','VTYP_O6','VTYP_S6','VTYP_I7','VTYP_S8','VTYP_O8','VTYP_U8','COVBYORI','VTYP_I6','VTYP_U5','VTYP_B6','VTYP_O5','VTYP_S5','VTYP_R5','VTYP_G5','VTYP_F5','VTYP_B5','VTYP_I5','VTYP_U4','VTYP_O4','VTYP_S4','VTYP_F6','VTYP_G6','VTYP_F4','VTYP_B4','VTYP_G4','VTYP_R4','VTYP_R6','VTYP_U6','VTYP_I9','VTYP_R10','VTYP_F3','VTYP_G3','VTYP_R3','VTYP_S3','VTYP_O3','VTYP_U3','VTYP_I4','VTYP_S10','VTYP_O10','VTYP_U10','VTYP_B3','VTYP_U1','VTYP_U2','VTYP_I2','VTYP_B2','VTYP_F2','VTYP_G2','VTYP_B1','VTYP_F1','VTYP_G1','VTYP_R1','VTYP_S1','VTYP_O1','VTYP_R2','VTYP_S2','VTYP_O2','VTYP_I3','BIASMO8','OFFCOD9','NUMVTM9','LOCCOD9','BIASMO9','OFFCOD10','NUMVTM10','LOCCOD10','BIASMO10','VTYP_I1','NUMVTM6','LOCCOD6','BIASMO6','OFFCOD7','NUMVTM7','LOCCOD7','BIASMO7','OFFCOD8','NUMVTM8','LOCCOD8','BIASMO3','OFFCOD4','NUMVTM4','LOCCOD4','BIASMO4','OFFCOD5','NUMVTM5','LOCCOD5','BIASMO5','OFFCOD6','LOCCOD3','NUMVTM3','OFFCOD3','BIASMO2','LOCCOD2','NUMVTM2','OFFCOD2','NBRSFLG','INCIDDTE','DATASRC','FIELDNO','DIVISN','POPGRP','GOFFRAC','TNUMOFF','TNUMVTMS','CFIPS2','CFIPS3','CFIPS4','CFIPS5','MSA1','COUNTY1','INACTDTE','REC_IR','AGINDIC','OFFCOD1','NUMVTM1','CFIPS1','AGNAME','F4QACT','F3QACT','POP2','LSTPOP1','COUNTY2','MSA2','LSTPOP2','POP3','COUNTY3','MSA3','QTR1ACT','QTR2ACT','QTR3ACT','QTR4ACT','F1QACT','F2QACT','LSTPOP5','MSA5','COUNTY5','POP5','LSTPOP4','COUNTY4','POP4','LSTPOP3','MSA4','IINCIDNO'])\n",
    "\n",
    "ml_2003 = ml_2003.rename(columns = {'BIASMO1':'BIAS MOTIVATION', 'LOCCOD1':'LOCATION', 'MASTERYR':'YEAR', 'ORI':'AGENCY IDENTIFIER', 'STATECOD':'STATE', 'JUDDIST':'JUDICIAL DISTRICT', 'POP1': 'POPULATION'})\n",
    "\n",
    "ml_2003['BIAS MOTIVATION'] = ml_2003['BIAS MOTIVATION'].replace(dict.fromkeys(['Anti-Catholic','Anti-Islamic', 'Anti-Jewish', \"Anti-Jehovah's Witness\", 'Anti-Other Christian', 'Anti-Hindu', 'Anti-Mormon','Anti-Buddhist', 'Anti-Other Religion', 'Anti-Multi-Religious', 'Anti-Protestant', 'Anti-Sikh','Anti-Atheism/Agnosticism'],'Anti-Religion'))\n",
    "ml_2003['BIAS MOTIVATION'] = ml_2003['BIAS MOTIVATION'].replace(dict.fromkeys(['Anti-Other ethnicity','Anti-Hispanic', 'Anti-Black', 'Anti-Am Indian', 'Anti-Asian', 'Anti-White', 'Anti-Multi-Racial'], 'Anti-Race'))\n",
    "ml_2003['BIAS MOTIVATION'] = ml_2003['BIAS MOTIVATION'].replace(dict.fromkeys(['Anti-Lesbian, Gay, Bisexual, or Transgender','Anti-Female Homosexual', 'Anti-Heterosexual', 'Anti-Transgender','Anti-Bisexual', 'Anti-Male Homosexual','Anti-Homosexual (both)'], 'Anti-Sexual Orientation'))\n",
    "ml_2003['BIAS MOTIVATION'] = ml_2003['BIAS MOTIVATION'].replace(dict.fromkeys(['Anti-Mental Disability','Anti-Physical Disability']))"
   ]
  },
  {
   "cell_type": "code",
   "execution_count": 45,
   "metadata": {},
   "outputs": [],
   "source": [
    "ml_2000 = pd.read_stata('ML_Data/23783-0002-Data.dta').drop(columns =['STATNUM','VTYP_O9','VTYP_S9','VTYP_R9','ORINIBRS','ORIADDDT','CORECTY','VTYP_G9','VTYP_U9','VTYP_B9','VTYP_F9','VTYP_I10','VTYP_B10','VTYP_F10','VTYP_G10','VTYP_G8','VTYP_F8','VTYP_B8','VTYP_I8','VTYP_U7','VTYP_O7','VTYP_S7','VTYP_R7','VTYP_G7','VTYP_F7','VTYP_B7','VTYP_R8','VTYP_O6','VTYP_S6','VTYP_I7','VTYP_S8','VTYP_O8','VTYP_U8','COVBYORI','VTYP_I6','VTYP_U5','VTYP_B6','VTYP_O5','VTYP_S5','VTYP_R5','VTYP_G5','VTYP_F5','VTYP_B5','VTYP_I5','VTYP_U4','VTYP_O4','VTYP_S4','VTYP_F6','VTYP_G6','VTYP_F4','VTYP_B4','VTYP_G4','VTYP_R4','VTYP_R6','VTYP_U6','VTYP_I9','VTYP_R10','VTYP_F3','VTYP_G3','VTYP_R3','VTYP_S3','VTYP_O3','VTYP_U3','VTYP_I4','VTYP_S10','VTYP_O10','VTYP_U10','VTYP_B3','VTYP_U1','VTYP_U2','VTYP_I2','VTYP_B2','VTYP_F2','VTYP_G2','VTYP_B1','VTYP_F1','VTYP_G1','VTYP_R1','VTYP_S1','VTYP_O1','VTYP_R2','VTYP_S2','VTYP_O2','VTYP_I3','BIASMO8','OFFCOD9','NUMVTM9','LOCCOD9','BIASMO9','OFFCOD10','NUMVTM10','LOCCOD10','BIASMO10','VTYP_I1','NUMVTM6','LOCCOD6','BIASMO6','OFFCOD7','NUMVTM7','LOCCOD7','BIASMO7','OFFCOD8','NUMVTM8','LOCCOD8','BIASMO3','OFFCOD4','NUMVTM4','LOCCOD4','BIASMO4','OFFCOD5','NUMVTM5','LOCCOD5','BIASMO5','OFFCOD6','LOCCOD3','NUMVTM3','OFFCOD3','BIASMO2','LOCCOD2','NUMVTM2','OFFCOD2','NBRSFLG','INCIDDTE','DATASRC','FIELDNO','DIVISN','POPGRP','GOFFRAC','TNUMOFF','TNUMVTMS','CFIPS2','CFIPS3','CFIPS4','CFIPS5','MSA1','COUNTY1','INACTDTE','REC_IR','AGINDIC','OFFCOD1','NUMVTM1','CFIPS1','AGNAME','F4QACT','F3QACT','POP2','LSTPOP1','COUNTY2','MSA2','LSTPOP2','POP3','COUNTY3','MSA3','QTR1ACT','QTR2ACT','QTR3ACT','QTR4ACT','F1QACT','F2QACT','LSTPOP5','MSA5','COUNTY5','POP5','LSTPOP4','COUNTY4','POP4','LSTPOP3','MSA4','IINCIDNO'])\n",
    "ml_2000 = ml_2000.rename(columns = {'BIASMO1':'BIAS MOTIVATION', 'LOCCOD1':'LOCATION', 'MASTERYR':'YEAR', 'ORI':'AGENCY IDENTIFIER', 'STATECOD':'STATE', 'JUDDIST':'JUDICIAL DISTRICT', 'POP1': 'POPULATION'})\n",
    "\n",
    "ml_2000['BIAS MOTIVATION'] = ml_2000['BIAS MOTIVATION'].replace(dict.fromkeys(['Anti-Catholic','Anti-Islamic', 'Anti-Jewish', \"Anti-Jehovah's Witness\", 'Anti-Other Christian', 'Anti-Hindu', 'Anti-Mormon','Anti-Buddhist', 'Anti-Other Religion', 'Anti-Multi-Religious', 'Anti-Protestant', 'Anti-Sikh','Anti-Atheism/Agnosticism'],'Anti-Religion'))\n",
    "ml_2000['BIAS MOTIVATION'] = ml_2000['BIAS MOTIVATION'].replace(dict.fromkeys(['Anti-Other ethnicity','Anti-Hispanic', 'Anti-Black', 'Anti-Am Indian', 'Anti-Asian', 'Anti-White', 'Anti-Multi-Racial'], 'Anti-Race'))\n",
    "ml_2000['BIAS MOTIVATION'] = ml_2000['BIAS MOTIVATION'].replace(dict.fromkeys(['Anti-Lesbian, Gay, Bisexual, or Transgender','Anti-Female Homosexual', 'Anti-Heterosexual', 'Anti-Transgender','Anti-Bisexual', 'Anti-Male Homosexual','Anti-Homosexual (both)'], 'Anti-Sexual Orientation'))\n",
    "ml_2000['BIAS MOTIVATION'] = ml_2000['BIAS MOTIVATION'].replace(dict.fromkeys(['Anti-Mental Disability','Anti-Physical Disability']))"
   ]
  },
  {
   "cell_type": "code",
   "execution_count": 46,
   "metadata": {},
   "outputs": [],
   "source": [
    "ml_2001 = pd.read_stata('ML_Data/23781-0002-Data.dta').drop(columns =['STATNUM','VTYP_O9','VTYP_S9','VTYP_R9','ORINIBRS','ORIADDDT','CORECTY','VTYP_G9','VTYP_U9','VTYP_B9','VTYP_F9','VTYP_I10','VTYP_B10','VTYP_F10','VTYP_G10','VTYP_G8','VTYP_F8','VTYP_B8','VTYP_I8','VTYP_U7','VTYP_O7','VTYP_S7','VTYP_R7','VTYP_G7','VTYP_F7','VTYP_B7','VTYP_R8','VTYP_O6','VTYP_S6','VTYP_I7','VTYP_S8','VTYP_O8','VTYP_U8','COVBYORI','VTYP_I6','VTYP_U5','VTYP_B6','VTYP_O5','VTYP_S5','VTYP_R5','VTYP_G5','VTYP_F5','VTYP_B5','VTYP_I5','VTYP_U4','VTYP_O4','VTYP_S4','VTYP_F6','VTYP_G6','VTYP_F4','VTYP_B4','VTYP_G4','VTYP_R4','VTYP_R6','VTYP_U6','VTYP_I9','VTYP_R10','VTYP_F3','VTYP_G3','VTYP_R3','VTYP_S3','VTYP_O3','VTYP_U3','VTYP_I4','VTYP_S10','VTYP_O10','VTYP_U10','VTYP_B3','VTYP_U1','VTYP_U2','VTYP_I2','VTYP_B2','VTYP_F2','VTYP_G2','VTYP_B1','VTYP_F1','VTYP_G1','VTYP_R1','VTYP_S1','VTYP_O1','VTYP_R2','VTYP_S2','VTYP_O2','VTYP_I3','BIASMO8','OFFCOD9','NUMVTM9','LOCCOD9','BIASMO9','OFFCOD10','NUMVTM10','LOCCOD10','BIASMO10','VTYP_I1','NUMVTM6','LOCCOD6','BIASMO6','OFFCOD7','NUMVTM7','LOCCOD7','BIASMO7','OFFCOD8','NUMVTM8','LOCCOD8','BIASMO3','OFFCOD4','NUMVTM4','LOCCOD4','BIASMO4','OFFCOD5','NUMVTM5','LOCCOD5','BIASMO5','OFFCOD6','LOCCOD3','NUMVTM3','OFFCOD3','BIASMO2','LOCCOD2','NUMVTM2','OFFCOD2','NBRSFLG','INCIDDTE','DATASRC','FIELDNO','DIVISN','POPGRP','GOFFRAC','TNUMOFF','TNUMVTMS','CFIPS2','CFIPS3','CFIPS4','CFIPS5','MSA1','COUNTY1','INACTDTE','REC_IR','AGINDIC','OFFCOD1','NUMVTM1','CFIPS1','AGNAME','F4QACT','F3QACT','POP2','LSTPOP1','COUNTY2','MSA2','LSTPOP2','POP3','COUNTY3','MSA3','QTR1ACT','QTR2ACT','QTR3ACT','QTR4ACT','F1QACT','F2QACT','LSTPOP5','MSA5','COUNTY5','POP5','LSTPOP4','COUNTY4','POP4','LSTPOP3','MSA4','IINCIDNO'])\n",
    "ml_2001 = ml_2001.rename(columns = {'BIASMO1':'BIAS MOTIVATION', 'LOCCOD1':'LOCATION', 'MASTERYR':'YEAR', 'ORI':'AGENCY IDENTIFIER', 'STATECOD':'STATE', 'JUDDIST':'JUDICIAL DISTRICT', 'POP1': 'POPULATION'})\n",
    "\n",
    "ml_2001['BIAS MOTIVATION'] = ml_2001['BIAS MOTIVATION'].replace(dict.fromkeys(['Anti-Catholic','Anti-Islamic', 'Anti-Jewish', \"Anti-Jehovah's Witness\", 'Anti-Other Christian', 'Anti-Hindu', 'Anti-Mormon','Anti-Buddhist', 'Anti-Other Religion', 'Anti-Multi-Religious', 'Anti-Protestant', 'Anti-Sikh','Anti-Atheism/Agnosticism'],'Anti-Religion'))\n",
    "ml_2001['BIAS MOTIVATION'] = ml_2001['BIAS MOTIVATION'].replace(dict.fromkeys(['Anti-Other ethnicity','Anti-Hispanic', 'Anti-Black', 'Anti-Am Indian', 'Anti-Asian', 'Anti-White', 'Anti-Multi-Racial'], 'Anti-Race'))\n",
    "ml_2001['BIAS MOTIVATION'] = ml_2001['BIAS MOTIVATION'].replace(dict.fromkeys(['Anti-Lesbian, Gay, Bisexual, or Transgender','Anti-Female Homosexual', 'Anti-Heterosexual', 'Anti-Transgender','Anti-Bisexual', 'Anti-Male Homosexual','Anti-Homosexual (both)'], 'Anti-Sexual Orientation'))\n",
    "ml_2001['BIAS MOTIVATION'] = ml_2001['BIAS MOTIVATION'].replace(dict.fromkeys(['Anti-Mental Disability','Anti-Physical Disability']))"
   ]
  },
  {
   "cell_type": "code",
   "execution_count": 47,
   "metadata": {},
   "outputs": [],
   "source": [
    "ml_2004 = pd.read_stata('ML_Data/23544-0002-Data.dta').drop(columns =['STATNUM','VTYP_O9','VTYP_S9','VTYP_R9','ORINIBRS','ORIADDDT','CORECTY','VTYP_G9','VTYP_U9','VTYP_B9','VTYP_F9','VTYP_I10','VTYP_B10','VTYP_F10','VTYP_G10','VTYP_G8','VTYP_F8','VTYP_B8','VTYP_I8','VTYP_U7','VTYP_O7','VTYP_S7','VTYP_R7','VTYP_G7','VTYP_F7','VTYP_B7','VTYP_R8','VTYP_O6','VTYP_S6','VTYP_I7','VTYP_S8','VTYP_O8','VTYP_U8','COVBYORI','VTYP_I6','VTYP_U5','VTYP_B6','VTYP_O5','VTYP_S5','VTYP_R5','VTYP_G5','VTYP_F5','VTYP_B5','VTYP_I5','VTYP_U4','VTYP_O4','VTYP_S4','VTYP_F6','VTYP_G6','VTYP_F4','VTYP_B4','VTYP_G4','VTYP_R4','VTYP_R6','VTYP_U6','VTYP_I9','VTYP_R10','VTYP_F3','VTYP_G3','VTYP_R3','VTYP_S3','VTYP_O3','VTYP_U3','VTYP_I4','VTYP_S10','VTYP_O10','VTYP_U10','VTYP_B3','VTYP_U1','VTYP_U2','VTYP_I2','VTYP_B2','VTYP_F2','VTYP_G2','VTYP_B1','VTYP_F1','VTYP_G1','VTYP_R1','VTYP_S1','VTYP_O1','VTYP_R2','VTYP_S2','VTYP_O2','VTYP_I3','BIASMO8','OFFCOD9','NUMVTM9','LOCCOD9','BIASMO9','OFFCOD10','NUMVTM10','LOCCOD10','BIASMO10','VTYP_I1','NUMVTM6','LOCCOD6','BIASMO6','OFFCOD7','NUMVTM7','LOCCOD7','BIASMO7','OFFCOD8','NUMVTM8','LOCCOD8','BIASMO3','OFFCOD4','NUMVTM4','LOCCOD4','BIASMO4','OFFCOD5','NUMVTM5','LOCCOD5','BIASMO5','OFFCOD6','LOCCOD3','NUMVTM3','OFFCOD3','BIASMO2','LOCCOD2','NUMVTM2','OFFCOD2','NBRSFLG','INCIDDTE','DATASRC','FIELDNO','DIVISN','POPGRP','GOFFRAC','TNUMOFF','TNUMVTMS','CFIPS2','CFIPS3','CFIPS4','CFIPS5','MSA1','COUNTY1','INACTDTE','REC_IR','AGINDIC','OFFCOD1','NUMVTM1','CFIPS1','AGNAME','F4QACT','F3QACT','POP2','LSTPOP1','COUNTY2','MSA2','LSTPOP2','POP3','COUNTY3','MSA3','QTR1ACT','QTR2ACT','QTR3ACT','QTR4ACT','F1QACT','F2QACT','LSTPOP5','MSA5','COUNTY5','POP5','LSTPOP4','COUNTY4','POP4','LSTPOP3','MSA4','IINCIDNO'])\n",
    "ml_2004 = ml_2004.rename(columns = {'BIASMO1':'BIAS MOTIVATION', 'LOCCOD1':'LOCATION', 'MASTERYR':'YEAR', 'ORI':'AGENCY IDENTIFIER', 'STATECOD':'STATE', 'JUDDIST':'JUDICIAL DISTRICT', 'POP1': 'POPULATION'})\n",
    "\n",
    "\n",
    "ml_2004['BIAS MOTIVATION'] = ml_2004['BIAS MOTIVATION'].replace(dict.fromkeys(['Anti-Catholic','Anti-Islamic', 'Anti-Jewish', \"Anti-Jehovah's Witness\", 'Anti-Other Christian', 'Anti-Hindu', 'Anti-Mormon','Anti-Buddhist', 'Anti-Other Religion', 'Anti-Multi-Religious', 'Anti-Protestant', 'Anti-Sikh','Anti-Atheism/Agnosticism'],'Anti-Religion'))\n",
    "ml_2004['BIAS MOTIVATION'] = ml_2004['BIAS MOTIVATION'].replace(dict.fromkeys(['Anti-Other ethnicity','Anti-Hispanic', 'Anti-Black', 'Anti-Am Indian', 'Anti-Asian', 'Anti-White', 'Anti-Multi-Racial'], 'Anti-Race'))\n",
    "ml_2004['BIAS MOTIVATION'] = ml_2004['BIAS MOTIVATION'].replace(dict.fromkeys(['Anti-Lesbian, Gay, Bisexual, or Transgender','Anti-Female Homosexual', 'Anti-Heterosexual', 'Anti-Transgender','Anti-Bisexual', 'Anti-Male Homosexual','Anti-Homosexual (both)'], 'Anti-Sexual Orientation'))\n",
    "ml_2004['BIAS MOTIVATION'] = ml_2004['BIAS MOTIVATION'].replace(dict.fromkeys(['Anti-Mental Disability','Anti-Physical Disability']))"
   ]
  },
  {
   "cell_type": "code",
   "execution_count": 48,
   "metadata": {},
   "outputs": [],
   "source": [
    "ml_2002 = pd.read_stata('ML_Data/23625-0002-Data.dta').drop(columns =['STATNUM','VTYP_O9','VTYP_S9','VTYP_R9','ORINIBRS','ORIADDDT','CORECTY','VTYP_G9','VTYP_U9','VTYP_B9','VTYP_F9','VTYP_I10','VTYP_B10','VTYP_F10','VTYP_G10','VTYP_G8','VTYP_F8','VTYP_B8','VTYP_I8','VTYP_U7','VTYP_O7','VTYP_S7','VTYP_R7','VTYP_G7','VTYP_F7','VTYP_B7','VTYP_R8','VTYP_O6','VTYP_S6','VTYP_I7','VTYP_S8','VTYP_O8','VTYP_U8','COVBYORI','VTYP_I6','VTYP_U5','VTYP_B6','VTYP_O5','VTYP_S5','VTYP_R5','VTYP_G5','VTYP_F5','VTYP_B5','VTYP_I5','VTYP_U4','VTYP_O4','VTYP_S4','VTYP_F6','VTYP_G6','VTYP_F4','VTYP_B4','VTYP_G4','VTYP_R4','VTYP_R6','VTYP_U6','VTYP_I9','VTYP_R10','VTYP_F3','VTYP_G3','VTYP_R3','VTYP_S3','VTYP_O3','VTYP_U3','VTYP_I4','VTYP_S10','VTYP_O10','VTYP_U10','VTYP_B3','VTYP_U1','VTYP_U2','VTYP_I2','VTYP_B2','VTYP_F2','VTYP_G2','VTYP_B1','VTYP_F1','VTYP_G1','VTYP_R1','VTYP_S1','VTYP_O1','VTYP_R2','VTYP_S2','VTYP_O2','VTYP_I3','BIASMO8','OFFCOD9','NUMVTM9','LOCCOD9','BIASMO9','OFFCOD10','NUMVTM10','LOCCOD10','BIASMO10','VTYP_I1','NUMVTM6','LOCCOD6','BIASMO6','OFFCOD7','NUMVTM7','LOCCOD7','BIASMO7','OFFCOD8','NUMVTM8','LOCCOD8','BIASMO3','OFFCOD4','NUMVTM4','LOCCOD4','BIASMO4','OFFCOD5','NUMVTM5','LOCCOD5','BIASMO5','OFFCOD6','LOCCOD3','NUMVTM3','OFFCOD3','BIASMO2','LOCCOD2','NUMVTM2','OFFCOD2','NBRSFLG','INCIDDTE','DATASRC','FIELDNO','DIVISN','POPGRP','GOFFRAC','TNUMOFF','TNUMVTMS','CFIPS2','CFIPS3','CFIPS4','CFIPS5','MSA1','COUNTY1','INACTDTE','REC_IR','AGINDIC','OFFCOD1','NUMVTM1','CFIPS1','AGNAME','F4QACT','F3QACT','POP2','LSTPOP1','COUNTY2','MSA2','LSTPOP2','POP3','COUNTY3','MSA3','QTR1ACT','QTR2ACT','QTR3ACT','QTR4ACT','F1QACT','F2QACT','LSTPOP5','MSA5','COUNTY5','POP5','LSTPOP4','COUNTY4','POP4','LSTPOP3','MSA4','IINCIDNO'])\n",
    "ml_2002 = ml_2002.rename(columns = {'BIASMO1':'BIAS MOTIVATION', 'LOCCOD1':'LOCATION', 'MASTERYR':'YEAR', 'ORI':'AGENCY IDENTIFIER', 'STATECOD':'STATE', 'JUDDIST':'JUDICIAL DISTRICT', 'POP1': 'POPULATION'})\n",
    "\n",
    "ml_2002['BIAS MOTIVATION'] = ml_2002['BIAS MOTIVATION'].replace(dict.fromkeys(['Anti-Catholic','Anti-Islamic', 'Anti-Jewish', \"Anti-Jehovah's Witness\", 'Anti-Other Christian', 'Anti-Hindu', 'Anti-Mormon','Anti-Buddhist', 'Anti-Other Religion', 'Anti-Multi-Religious', 'Anti-Protestant', 'Anti-Sikh','Anti-Atheism/Agnosticism'],'Anti-Religion'))\n",
    "ml_2002['BIAS MOTIVATION'] = ml_2002['BIAS MOTIVATION'].replace(dict.fromkeys(['Anti-Other ethnicity','Anti-Hispanic', 'Anti-Black', 'Anti-Am Indian', 'Anti-Asian', 'Anti-White', 'Anti-Multi-Racial'], 'Anti-Race'))\n",
    "ml_2002['BIAS MOTIVATION'] = ml_2002['BIAS MOTIVATION'].replace(dict.fromkeys(['Anti-Lesbian, Gay, Bisexual, or Transgender','Anti-Female Homosexual', 'Anti-Heterosexual', 'Anti-Transgender','Anti-Bisexual', 'Anti-Male Homosexual','Anti-Homosexual (both)'], 'Anti-Sexual Orientation'))\n",
    "ml_2002['BIAS MOTIVATION'] = ml_2002['BIAS MOTIVATION'].replace(dict.fromkeys(['Anti-Mental Disability','Anti-Physical Disability']))"
   ]
  },
  {
   "cell_type": "code",
   "execution_count": 49,
   "metadata": {},
   "outputs": [],
   "source": [
    "ml_2013 = pd.read_stata('ML_Data/36118-0002-Data.dta').drop(columns =['STATNUM','VTYP_O9','VTYP_S9','VTYP_R9','ORINIBRS','ORIADDDT','CORECTY','VTYP_G9','VTYP_U9','VTYP_B9','VTYP_F9','VTYP_I10','VTYP_B10','VTYP_F10','VTYP_G10','VTYP_G8','VTYP_F8','VTYP_B8','VTYP_I8','VTYP_U7','VTYP_O7','VTYP_S7','VTYP_R7','VTYP_G7','VTYP_F7','VTYP_B7','VTYP_R8','VTYP_O6','VTYP_S6','VTYP_I7','VTYP_S8','VTYP_O8','VTYP_U8','COVBYORI','VTYP_I6','VTYP_U5','VTYP_B6','VTYP_O5','VTYP_S5','VTYP_R5','VTYP_G5','VTYP_F5','VTYP_B5','VTYP_I5','VTYP_U4','VTYP_O4','VTYP_S4','VTYP_F6','VTYP_G6','VTYP_F4','VTYP_B4','VTYP_G4','VTYP_R4','VTYP_R6','VTYP_U6','VTYP_I9','VTYP_R10','VTYP_F3','VTYP_G3','VTYP_R3','VTYP_S3','VTYP_O3','VTYP_U3','VTYP_I4','VTYP_S10','VTYP_O10','VTYP_U10','VTYP_B3','VTYP_U1','VTYP_U2','VTYP_I2','VTYP_B2','VTYP_F2','VTYP_G2','VTYP_B1','VTYP_F1','VTYP_G1','VTYP_R1','VTYP_S1','VTYP_O1','VTYP_R2','VTYP_S2','VTYP_O2','VTYP_I3','BIASMO8','OFFCOD9','NUMVTM9','LOCCOD9','BIASMO9','OFFCOD10','NUMVTM10','LOCCOD10','BIASMO10','VTYP_I1','NUMVTM6','LOCCOD6','BIASMO6','OFFCOD7','NUMVTM7','LOCCOD7','BIASMO7','OFFCOD8','NUMVTM8','LOCCOD8','BIASMO3','OFFCOD4','NUMVTM4','LOCCOD4','BIASMO4','OFFCOD5','NUMVTM5','LOCCOD5','BIASMO5','OFFCOD6','LOCCOD3','NUMVTM3','OFFCOD3','BIASMO2','LOCCOD2','NUMVTM2','OFFCOD2','NBRSFLG','INCIDDTE','DATASRC','FIELDNO','DIVISN','POPGRP','GOFFRAC','TNUMOFF','TNUMVTMS','CFIPS2','CFIPS3','CFIPS4','CFIPS5','MSA1','COUNTY1','INACTDTE','REC_IR','AGINDIC','OFFCOD1','NUMVTM1','CFIPS1','AGNAME','F4QACT','F3QACT','POP2','LSTPOP1','COUNTY2','MSA2','LSTPOP2','POP3','COUNTY3','MSA3','QTR1ACT','QTR2ACT','QTR3ACT','QTR4ACT','F1QACT','F2QACT','LSTPOP5','MSA5','COUNTY5','POP5','LSTPOP4','COUNTY4','POP4','LSTPOP3','MSA4','IINCIDNO'])\n",
    "ml_2013 = ml_2013.rename(columns = {'BIASMO1':'BIAS MOTIVATION', 'LOCCOD1':'LOCATION', 'MASTERYR':'YEAR', 'ORI':'AGENCY IDENTIFIER', 'STATECOD':'STATE', 'JUDDIST':'JUDICIAL DISTRICT', 'POP1': 'POPULATION'})\n",
    "\n",
    "ml_2013['BIAS MOTIVATION'] = ml_2013['BIAS MOTIVATION'].replace(dict.fromkeys(['Anti-Catholic','Anti-Islamic', 'Anti-Jewish', \"Anti-Jehovah's Witness\", 'Anti-Other Christian', 'Anti-Hindu', 'Anti-Mormon','Anti-Buddhist', 'Anti-Other Religion', 'Anti-Multi-Religious', 'Anti-Protestant', 'Anti-Sikh','Anti-Atheism/Agnosticism'],'Anti-Religion'))\n",
    "ml_2013['BIAS MOTIVATION'] = ml_2013['BIAS MOTIVATION'].replace(dict.fromkeys(['Anti-Other ethnicity','Anti-Hispanic or Latino', 'Anti-Black or African American', 'Anti-American Indian or Alaska Native', 'Anti-Asian', 'Anti-White', 'Anti-Multi-Racial', 'Anti-Not Hispanic or Latino','Anti-Native Hawaiian or Other Pacific Islander'], 'Anti-Race'))\n",
    "ml_2013['BIAS MOTIVATION'] = ml_2013['BIAS MOTIVATION'].replace(dict.fromkeys(['Anti-Lesbian, Gay, Bisexual, or Transgender','Anti-Female Homosexual', 'Anti-Heterosexual', 'Anti-Transgender','Anti-Bisexual', 'Anti-Male Homosexual','Anti-Homosexual (both)', 'Anti-Lesbian, Gay, Bisexual, or Transgender, Mixed Group (LGBT)', 'Anti-Gender Non-Conforming'], 'Anti-Sexual Orientation'))\n",
    "ml_2013['BIAS MOTIVATION'] = ml_2013['BIAS MOTIVATION'].replace(dict.fromkeys(['Anti-Mental Disability','Anti-Physical Disability']))\n",
    "ml_2013['BIAS MOTIVATION'] = ml_2013['BIAS MOTIVATION'].replace(dict.fromkeys(['Anti-Male', 'Anti-Female'], 'Anti-Gender'))"
   ]
  },
  {
   "cell_type": "code",
   "execution_count": 50,
   "metadata": {},
   "outputs": [],
   "source": [
    "ml_2014 = pd.read_stata('ML_Data/36397-0002-Data.dta').drop(columns =['STATNUM','VTYP_O9','VTYP_S9','VTYP_R9','ORINIBRS','ORIADDDT','CORECTY','VTYP_G9','VTYP_U9','VTYP_B9','VTYP_F9','VTYP_I10','VTYP_B10','VTYP_F10','VTYP_G10','VTYP_G8','VTYP_F8','VTYP_B8','VTYP_I8','VTYP_U7','VTYP_O7','VTYP_S7','VTYP_R7','VTYP_G7','VTYP_F7','VTYP_B7','VTYP_R8','VTYP_O6','VTYP_S6','VTYP_I7','VTYP_S8','VTYP_O8','VTYP_U8','COVBYORI','VTYP_I6','VTYP_U5','VTYP_B6','VTYP_O5','VTYP_S5','VTYP_R5','VTYP_G5','VTYP_F5','VTYP_B5','VTYP_I5','VTYP_U4','VTYP_O4','VTYP_S4','VTYP_F6','VTYP_G6','VTYP_F4','VTYP_B4','VTYP_G4','VTYP_R4','VTYP_R6','VTYP_U6','VTYP_I9','VTYP_R10','VTYP_F3','VTYP_G3','VTYP_R3','VTYP_S3','VTYP_O3','VTYP_U3','VTYP_I4','VTYP_S10','VTYP_O10','VTYP_U10','VTYP_B3','VTYP_U1','VTYP_U2','VTYP_I2','VTYP_B2','VTYP_F2','VTYP_G2','VTYP_B1','VTYP_F1','VTYP_G1','VTYP_R1','VTYP_S1','VTYP_O1','VTYP_R2','VTYP_S2','VTYP_O2','VTYP_I3','BIASMO8','OFFCOD9','NUMVTM9','LOCCOD9','BIASMO9','OFFCOD10','NUMVTM10','LOCCOD10','BIASMO10','VTYP_I1','NUMVTM6','LOCCOD6','BIASMO6','OFFCOD7','NUMVTM7','LOCCOD7','BIASMO7','OFFCOD8','NUMVTM8','LOCCOD8','BIASMO3','OFFCOD4','NUMVTM4','LOCCOD4','BIASMO4','OFFCOD5','NUMVTM5','LOCCOD5','BIASMO5','OFFCOD6','LOCCOD3','NUMVTM3','OFFCOD3','BIASMO2','LOCCOD2','NUMVTM2','OFFCOD2','NBRSFLG','INCIDDTE','DATASRC','FIELDNO','DIVISN','POPGRP','GOFFRAC','TNUMOFF','TNUMVTMS','CFIPS2','CFIPS3','CFIPS4','CFIPS5','MSA1','COUNTY1','INACTDTE','REC_IR','AGINDIC','OFFCOD1','NUMVTM1','CFIPS1','AGNAME','F4QACT','F3QACT','POP2','LSTPOP1','COUNTY2','MSA2','LSTPOP2','POP3','COUNTY3','MSA3','QTR1ACT','QTR2ACT','QTR3ACT','QTR4ACT','F1QACT','F2QACT','LSTPOP5','MSA5','COUNTY5','POP5','LSTPOP4','COUNTY4','POP4','LSTPOP3','MSA4','IINCIDNO'])\n",
    "ml_2014 = ml_2014.rename(columns = {'BIASMO1':'BIAS MOTIVATION', 'LOCCOD1':'LOCATION', 'MASTERYR':'YEAR', 'ORI':'AGENCY IDENTIFIER', 'STATECOD':'STATE', 'JUDDIST':'JUDICIAL DISTRICT', 'POP1': 'POPULATION'})\n",
    "\n",
    "ml_2014['BIAS MOTIVATION'] = ml_2014['BIAS MOTIVATION'].replace(dict.fromkeys(['Anti-Catholic','Anti-Islamic', 'Anti-Jewish', \"Anti-Jehovah's Witness\", 'Anti-Other Christian', 'Anti-Hindu', 'Anti-Mormon','Anti-Buddhist', 'Anti-Other Religion', 'Anti-Multi-Religious', 'Anti-Protestant', 'Anti-Sikh','Anti-Atheism/Agnosticism'],'Anti-Religion'))\n",
    "ml_2014['BIAS MOTIVATION'] = ml_2014['BIAS MOTIVATION'].replace(dict.fromkeys(['Anti-Other ethnicity','Anti-Hispanic or Latino', 'Anti-Black or African American', 'Anti-American Indian or Alaska Native', 'Anti-Asian', 'Anti-White', 'Anti-Multi-Racial', 'Anti-Not Hispanic or Latino','Anti-Native Hawaiian or Other Pacific Islander'], 'Anti-Race'))\n",
    "ml_2014['BIAS MOTIVATION'] = ml_2014['BIAS MOTIVATION'].replace(dict.fromkeys(['Anti-Lesbian, Gay, Bisexual, or Transgender','Anti-Female Homosexual', 'Anti-Heterosexual', 'Anti-Transgender','Anti-Bisexual', 'Anti-Male Homosexual','Anti-Homosexual (both)', 'Anti-Lesbian, Gay, Bisexual, or Transgender, Mixed Group (LGBT)', 'Anti-Gender Non-Conforming'], 'Anti-Sexual Orientation'))\n",
    "ml_2014['BIAS MOTIVATION'] = ml_2014['BIAS MOTIVATION'].replace(dict.fromkeys(['Anti-Mental Disability','Anti-Physical Disability']))\n",
    "ml_2014['BIAS MOTIVATION'] = ml_2014['BIAS MOTIVATION'].replace(dict.fromkeys(['Anti-Male', 'Anti-Female'], 'Anti-Gender'))"
   ]
  },
  {
   "cell_type": "code",
   "execution_count": 51,
   "metadata": {},
   "outputs": [],
   "source": [
    "ml_2010 = pd.read_stata('ML_Data/stata_2010.dta')\n",
    "ml_2010 = ml_2010[['MASTERYR', 'ORI', 'REGION', 'STATECOD', 'CITY', 'BIASMO1', 'POP1', 'LOCCOD1', 'JUDDIST',\n",
    "    'QUARTER']]\n",
    "#renaming anti-disability group 2010\n",
    "ml_2010['BIASMO1'] = ml_2010['BIASMO1'].replace(dict.fromkeys(['Anti-Mental Disability', 'Anti-Physical Disability'], \n",
    "                                                              'Anti-Disability'))\n",
    "\n",
    "#renaming anti-religion group\n",
    "ml_2010['BIASMO1'] = ml_2010['BIASMO1'].replace(dict.fromkeys(['Anti-Islamic', 'Anti-Multi-Religious', 'Anti-Other Religion',\n",
    "                                                              'Anti-Catholic', 'Anti-Jewish','Anti-Protestant',\n",
    "                                                               'Anti-Atheism/Agnosticism'], \n",
    "                                                              'Anti-Religion'))\n",
    "\n",
    "#renaming anti-race group\n",
    "ml_2010['BIASMO1'] = ml_2010['BIASMO1'].replace(dict.fromkeys(['Anti-White', 'Anti-Asian', \n",
    "                                                              'Anti-Black', 'Anti-Multi-Racial', \n",
    "                                                              'Anti-Am Indian', 'Anti-Hispanic',\n",
    "                                                              'Anti-Other ethnicity'], \n",
    "                                                              'Anti-Race'))\n",
    "\n",
    "#renaming anti-gender group\n",
    "#ml_2010['BIASMO1'] = ml_2010['BIASMO1'].replace(dict.fromkeys(['Anti-Female','Anti-Male', 'Anti-Gender Non-Conforming'], \n",
    "                                                              #'Anti-Gender'))\n",
    "\n",
    "#renaming anti-sexual orientation group\n",
    "ml_2010['BIASMO1'] = ml_2010['BIASMO1'].replace(dict.fromkeys(['Anti-Male Homosexual', 'Anti-Heterosexual', 'Anti-Female Homosexual',\n",
    "                                                              'Anti-Bisexual', 'Anti-Homosexual (both)'], \n",
    "                                                              'Anti-Sexual Orientation'))"
   ]
  },
  {
   "cell_type": "code",
   "execution_count": 52,
   "metadata": {},
   "outputs": [],
   "source": [
    "ml_2011 = pd.read_stata('ML_Data/ml_2011.dta')\n",
    "ml_2011 = ml_2011[['MASTERYR', 'ORI', 'REGION', 'STATECOD', 'CITY', 'BIASMO1', 'POP1', 'LOCCOD1', 'JUDDIST',\n",
    "    'QUARTER']]"
   ]
  },
  {
   "cell_type": "code",
   "execution_count": 53,
   "metadata": {},
   "outputs": [],
   "source": [
    "ml_2011['BIASMO1'] = ml_2011['BIASMO1'].replace(dict.fromkeys(['Anti-Mental Disability', 'Anti-Physical Disability'], \n",
    "                                                              'Anti-Disability'))\n",
    "\n",
    "#renaming anti-religion group\n",
    "ml_2011['BIASMO1'] = ml_2011['BIASMO1'].replace(dict.fromkeys(['Anti-Islamic', 'Anti-Multi-Religious', 'Anti-Other Religion',\n",
    "                                                              'Anti-Catholic', 'Anti-Jewish','Anti-Protestant',\n",
    "                                                               'Anti-Atheism/Agnosticism'], \n",
    "                                                              'Anti-Religion'))\n",
    "\n",
    "#renaming anti-race group\n",
    "ml_2011['BIASMO1'] = ml_2011['BIASMO1'].replace(dict.fromkeys(['Anti-White', 'Anti-Asian', \n",
    "                                                              'Anti-Black', 'Anti-Multi-Racial', \n",
    "                                                              'Anti-Am Indian', 'Anti-Hispanic',\n",
    "                                                              'Anti-Other ethnicity'], \n",
    "                                                              'Anti-Race'))\n",
    "\n",
    "#renaming anti-gender group\n",
    "ml_2010['BIASMO1'] = ml_2010['BIASMO1'].replace(dict.fromkeys(['Anti-Female','Anti-Male', 'Anti-Gender Non-Conforming'], \n",
    "                                                              'Anti-Gender'))\n",
    "\n",
    "#renaming anti-sexual orientation group\n",
    "ml_2011['BIASMO1'] = ml_2011['BIASMO1'].replace(dict.fromkeys(['Anti-Male Homosexual', 'Anti-Heterosexual', 'Anti-Female Homosexual',\n",
    "                                                              'Anti-Bisexual', 'Anti-Homosexual (both)'], \n",
    "                                                              'Anti-Sexual Orientation'))"
   ]
  },
  {
   "cell_type": "code",
   "execution_count": 54,
   "metadata": {},
   "outputs": [],
   "source": [
    "ml_2012 = pd.read_stata('ML_Data/ml_2012.dta')\n",
    "ml_2012 = ml_2012[['MASTERYR', 'ORI', 'REGION', 'STATECOD', 'CITY', 'BIASMO1', 'POP1', 'LOCCOD1', 'JUDDIST',\n",
    "    'QUARTER']]\n",
    "#renaming anti-disability group 2010\n",
    "ml_2012['BIASMO1'] = ml_2012['BIASMO1'].replace(dict.fromkeys(['Anti-Mental Disability', 'Anti-Physical Disability'], \n",
    "                                                              'Anti-Disability'))\n",
    "\n",
    "#renaming anti-religion group\n",
    "ml_2012['BIASMO1'] = ml_2012['BIASMO1'].replace(dict.fromkeys(['Anti-Islamic', 'Anti-Multi-Religious', 'Anti-Other Religion',\n",
    "                                                              'Anti-Catholic', 'Anti-Jewish','Anti-Protestant',\n",
    "                                                               'Anti-Atheism/Agnosticism'], \n",
    "                                                              'Anti-Religion'))\n",
    "\n",
    "#renaming anti-race group\n",
    "ml_2012['BIASMO1'] = ml_2012['BIASMO1'].replace(dict.fromkeys(['Anti-White', 'Anti-Asian', \n",
    "                                                              'Anti-Black or African American', 'Anti-Multi-Racial', \n",
    "                                                              'Anti-American Indian or Alaska Native', 'Anti-Not Hispanic or Latino',\n",
    "                                                              'Anti-Other ethnicity', 'Anti-Hispanic or Latino'], \n",
    "                                                              'Anti-Race'))\n",
    "\n",
    "#renaming anti-gender group\n",
    "ml_2012['BIASMO1'] = ml_2012['BIASMO1'].replace(dict.fromkeys(['Anti-Female','Anti-Male', 'Anti-Gender Non-Conforming'], \n",
    "                                                              'Anti-Gender'))\n",
    "\n",
    "#renaming anti-sexual orientation group\n",
    "ml_2012['BIASMO1'] = ml_2012['BIASMO1'].replace(dict.fromkeys(['Anti-Male Homosexual', 'Anti-Heterosexual', 'Anti-Female Homosexual',\n",
    "                                                              'Anti-Bisexual', 'Anti-Homosexual (both)',\n",
    "                                                              'Anti-Lesbian, Gay, Bisexual, or Transgender, Mixed Group (LGBT)'], \n",
    "                                                              'Anti-Sexual Orientation'))"
   ]
  },
  {
   "cell_type": "code",
   "execution_count": 55,
   "metadata": {},
   "outputs": [],
   "source": [
    "ml_2012 = ml_2012.rename(columns = {'BIASMO1':'BIAS MOTIVATION', 'LOCCOD1':'LOCATION', 'MASTERYR':'YEAR', 'ORI':'AGENCY IDENTIFIER', 'STATECOD':'STATE', 'JUDDIST':'JUDICIAL DISTRICT', 'POP1': 'POPULATION'})\n",
    "ml_2011 = ml_2011.rename(columns = {'BIASMO1':'BIAS MOTIVATION', 'LOCCOD1':'LOCATION', 'MASTERYR':'YEAR', 'ORI':'AGENCY IDENTIFIER', 'STATECOD':'STATE', 'JUDDIST':'JUDICIAL DISTRICT', 'POP1': 'POPULATION'})\n",
    "ml_2010 = ml_2010.rename(columns = {'BIASMO1':'BIAS MOTIVATION', 'LOCCOD1':'LOCATION', 'MASTERYR':'YEAR', 'ORI':'AGENCY IDENTIFIER', 'STATECOD':'STATE', 'JUDDIST':'JUDICIAL DISTRICT', 'POP1': 'POPULATION'})\n",
    "ml_2014 = ml_2014.rename(columns = {'BIASMO1':'BIAS MOTIVATION', 'LOCCOD1':'LOCATION', 'MASTERYR':'YEAR', 'ORI':'AGENCY IDENTIFIER', 'STATECOD':'STATE', 'JUDDIST':'JUDICIAL DISTRICT', 'POP1': 'POPULATION'})\n",
    "ml_2013 = ml_2013.rename(columns = {'BIASMO1':'BIAS MOTIVATION', 'LOCCOD1':'LOCATION', 'MASTERYR':'YEAR', 'ORI':'AGENCY IDENTIFIER', 'STATECOD':'STATE', 'JUDDIST':'JUDICIAL DISTRICT', 'POP1': 'POPULATION'})\n"
   ]
  },
  {
   "cell_type": "code",
   "execution_count": 56,
   "metadata": {},
   "outputs": [
    {
     "name": "stderr",
     "output_type": "stream",
     "text": [
      "/Users/hyewonchung/opt/anaconda3/lib/python3.7/site-packages/ipykernel_launcher.py:3: FutureWarning: Sorting because non-concatenation axis is not aligned. A future version\n",
      "of pandas will change to not sort by default.\n",
      "\n",
      "To accept the future behavior, pass 'sort=False'.\n",
      "\n",
      "To retain the current behavior and silence the warning, pass 'sort=True'.\n",
      "\n",
      "  This is separate from the ipykernel package so we can avoid doing imports until\n"
     ]
    }
   ],
   "source": [
    "combined_df = pd.concat([ml_2000, ml_2001, ml_2002, ml_2003, ml_2004, ml_2005, ml_2006, \n",
    "                        ml_2007, ml_2008, ml_2009, ml_2009, ml_2010, ml_2011,\n",
    "                        ml_2012, ml_2013, ml_2014, ml_2015, ml_2016]).reset_index(drop=True)"
   ]
  },
  {
   "cell_type": "code",
   "execution_count": 57,
   "metadata": {},
   "outputs": [],
   "source": [
    "combined_df.to_csv('merged.csv', index=False)"
   ]
  },
  {
   "cell_type": "code",
   "execution_count": null,
   "metadata": {},
   "outputs": [],
   "source": []
  }
 ],
 "metadata": {
  "kernelspec": {
   "display_name": "Python 3",
   "language": "python",
   "name": "python3"
  },
  "language_info": {
   "codemirror_mode": {
    "name": "ipython",
    "version": 3
   },
   "file_extension": ".py",
   "mimetype": "text/x-python",
   "name": "python",
   "nbconvert_exporter": "python",
   "pygments_lexer": "ipython3",
   "version": "3.7.4"
  }
 },
 "nbformat": 4,
 "nbformat_minor": 2
}
